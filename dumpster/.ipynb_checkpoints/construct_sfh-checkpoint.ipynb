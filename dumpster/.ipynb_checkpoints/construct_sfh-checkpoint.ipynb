{
 "cells": [
  {
   "cell_type": "code",
   "execution_count": 1,
   "id": "33b2ffb3-ea52-4d16-9431-808fa5e7daa3",
   "metadata": {},
   "outputs": [
    {
     "ename": "SyntaxError",
     "evalue": "invalid syntax (2946875017.py, line 5)",
     "output_type": "error",
     "traceback": [
      "\u001b[0;36m  Cell \u001b[0;32mIn[1], line 5\u001b[0;36m\u001b[0m\n\u001b[0;31m    def construct_sfh()\u001b[0m\n\u001b[0m                       ^\u001b[0m\n\u001b[0;31mSyntaxError\u001b[0m\u001b[0;31m:\u001b[0m invalid syntax\n"
     ]
    }
   ],
   "source": [
    "\"\"\" This code construct a SFH using caesar. The directory with the simulation catalogs is passed together with the list of IDs and the list of properties to recover. The code runs through the catalogs and recovers the\n",
    "  projenitors stored in tree_data, writing the properties in a fits file\n",
    "\"\"\"\n",
    "\n",
    "def construct_sfh()"
   ]
  },
  {
   "cell_type": "code",
   "execution_count": 2,
   "id": "03aed984-2e6a-4784-b24f-de4faba12c9c",
   "metadata": {},
   "outputs": [
    {
     "name": "stderr",
     "output_type": "stream",
     "text": [
      "yt : [INFO     ] 2024-07-19 10:54:26,171 Opening /media/lorenzong/Data1/SIMBA_catalogs/m100n1024_151.hdf5\n",
      "yt : [INFO     ] 2024-07-19 10:54:26,189 Found 464043 halos\n",
      "yt : [INFO     ] 2024-07-19 10:54:26,192 Found 55609 galaxies\n",
      "yt : [INFO     ] 2024-07-19 10:54:26,193 Opening /media/lorenzong/Data1/SIMBA_catalogs/m100n1024_150.hdf5\n",
      "yt : [INFO     ] 2024-07-19 10:54:26,202 Found 465211 halos\n",
      "yt : [INFO     ] 2024-07-19 10:54:26,205 Found 55336 galaxies\n",
      "yt : [INFO     ] 2024-07-19 10:54:26,206 Opening /media/lorenzong/Data1/SIMBA_catalogs/m100n1024_149.hdf5\n",
      "yt : [INFO     ] 2024-07-19 10:54:26,215 Found 466460 halos\n",
      "yt : [INFO     ] 2024-07-19 10:54:26,221 Found 55061 galaxies\n",
      "yt : [INFO     ] 2024-07-19 10:54:26,222 Opening /media/lorenzong/Data1/SIMBA_catalogs/m100n1024_148.hdf5\n",
      "yt : [INFO     ] 2024-07-19 10:54:26,230 Found 467847 halos\n",
      "yt : [INFO     ] 2024-07-19 10:54:26,233 Found 54406 galaxies\n"
     ]
    },
    {
     "name": "stdout",
     "output_type": "stream",
     "text": [
      "Before opening caesar file\n",
      "RAM Usage: 264.52 MB\n",
      "After closing caesar file\n",
      "RAM Usage: 268.80 MB\n",
      "Before opening caesar file\n",
      "RAM Usage: 268.80 MB\n",
      "After closing caesar file\n",
      "RAM Usage: 272.18 MB\n",
      "Before opening caesar file\n",
      "RAM Usage: 272.18 MB\n",
      "After closing caesar file\n",
      "RAM Usage: 268.88 MB\n",
      "Before opening caesar file\n",
      "RAM Usage: 268.88 MB\n",
      "After closing caesar file\n",
      "RAM Usage: 272.23 MB\n"
     ]
    }
   ],
   "source": [
    "import numpy as np\n",
    "import matplotlib.pyplot as plt\n",
    "import os\n",
    "import caesar\n",
    "from astropy.cosmology import LambdaCDM\n",
    "import astropy.units as u\n",
    "from astropy.io import fits\n",
    "from scipy import interpolate\n",
    "import psutil\n",
    "\n",
    "\n",
    "# Function to print RAM usage\n",
    "def print_ram_usage():\n",
    "    process = psutil.Process()\n",
    "    ram_usage = process.memory_info().rss / (1024 ** 2)  # Convert bytes to MB\n",
    "    print(f\"RAM Usage: {ram_usage:.2f} MB\")\n",
    "\n",
    "%run  guideclass.ipynb\n",
    "cosmo = LambdaCDM(H0 = 68, Om0= 0.3, Ode0= 0.7, Ob0=0.048)  \n",
    "\n",
    "sb = simba('PC39BP4', size=100)\n",
    "snapl = [151, 150, 149, 148]\n",
    "for i in snapl:\n",
    "    print('Before opening caesar file')\n",
    "    print_ram_usage()\n",
    "    cs = sb.get_caesar(i, fname=f'm100n1024_%s.hdf5')\n",
    "    del cs\n",
    "    print('After closing caesar file')\n",
    "    print_ram_usage()\n",
    "\n"
   ]
  },
  {
   "cell_type": "code",
   "execution_count": null,
   "id": "cfc6d895-b4fa-4b2d-9c91-83839c406096",
   "metadata": {},
   "outputs": [],
   "source": []
  },
  {
   "cell_type": "code",
   "execution_count": null,
   "id": "2a5f8b03-fcc8-4178-92dc-684626e69f04",
   "metadata": {},
   "outputs": [],
   "source": []
  }
 ],
 "metadata": {
  "kernelspec": {
   "display_name": "pd_env",
   "language": "python",
   "name": "pd_env"
  },
  "language_info": {
   "codemirror_mode": {
    "name": "ipython",
    "version": 3
   },
   "file_extension": ".py",
   "mimetype": "text/x-python",
   "name": "python",
   "nbconvert_exporter": "python",
   "pygments_lexer": "ipython3",
   "version": "3.9.19"
  }
 },
 "nbformat": 4,
 "nbformat_minor": 5
}
