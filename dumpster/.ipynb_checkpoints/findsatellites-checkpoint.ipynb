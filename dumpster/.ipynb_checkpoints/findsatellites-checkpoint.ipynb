{
 "cells": [
  {
   "cell_type": "code",
   "execution_count": 2,
   "id": "013adffe-96ac-4eb5-b770-6253ba7d2f55",
   "metadata": {},
   "outputs": [],
   "source": [
    "def findsatellites(pos_c, pos_l, ids, h, r=30):\n",
    "    pos_c = pos_c*h\n",
    "    pos_l = pos_l*h\n",
    "    dist = np.sqrt((pos_l[:,0]-pos_c[0])**2+(pos_l[:,1]-pos_c[1])**2+(pos_l[:,2]-pos_c[2])**2)\n",
    "    return ids[np.where(dist<r)[0]]"
   ]
  },
  {
   "cell_type": "code",
   "execution_count": null,
   "id": "21376086-6a94-49f7-b394-fe281435a6ca",
   "metadata": {},
   "outputs": [],
   "source": []
  }
 ],
 "metadata": {
  "kernelspec": {
   "display_name": "pd_env",
   "language": "python",
   "name": "pd_env"
  },
  "language_info": {
   "codemirror_mode": {
    "name": "ipython",
    "version": 3
   },
   "file_extension": ".py",
   "mimetype": "text/x-python",
   "name": "python",
   "nbconvert_exporter": "python",
   "pygments_lexer": "ipython3",
   "version": "3.9.19"
  }
 },
 "nbformat": 4,
 "nbformat_minor": 5
}
