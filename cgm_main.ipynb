{
 "cells": [
  {
   "cell_type": "code",
   "execution_count": 1,
   "id": "3b11f295-ab92-4f6f-bc7d-f090f3581e2a",
   "metadata": {},
   "outputs": [],
   "source": [
    "import os\n",
    "import caesar\n",
    "import numpy as np\n",
    "import matplotlib.pyplot as plt\n",
    "from matplotlib import colors\n",
    "import modules as anal\n",
    "import modules.anal_func as anal_func\n",
    "\n",
    "from astropy.cosmology import LambdaCDM\n",
    "import astropy.units as u\n",
    "from astropy.io import fits\n",
    "from scipy import interpolate\n",
    "\n",
    "\n",
    "cosmo = LambdaCDM(H0 = 68, Om0= 0.3, Ode0= 0.7, Ob0=0.048)\n",
    "plt.rcParams.update({'font.size': 28})"
   ]
  },
  {
   "cell_type": "code",
   "execution_count": 2,
   "id": "eb3c6c79-e3bb-4528-b9f8-4deaa928e214",
   "metadata": {},
   "outputs": [],
   "source": [
    "# initialize the Simba class, which import the needed paths\n",
    "sb = anal.Simba('PC39BP4', size=100)\n",
    "# initialize the SavePaths class to create destinations\n",
    "sv = anal.SavePaths() \n",
    "pltsv  = sv.get_filetype_path('plot')\n",
    "scatter = sv.create_subdir(pltsv, 'scatter')"
   ]
  },
  {
   "cell_type": "code",
   "execution_count": 3,
   "id": "0510ff36-f74a-47b6-ac68-c0641eeb21ad",
   "metadata": {},
   "outputs": [
    {
     "name": "stderr",
     "output_type": "stream",
     "text": [
      "yt : [INFO     ] 2024-08-15 19:07:09,866 Opening /media/lorenzong/Data1/SIMBA_catalogs/m100n1024_129.hdf5\n",
      "yt : [INFO     ] 2024-08-15 19:07:09,886 Found 495012 halos\n",
      "yt : [INFO     ] 2024-08-15 19:07:09,927 Found 46575 galaxies\n"
     ]
    }
   ],
   "source": [
    "# I will work with a single snapshot for now\n",
    "snap = 129\n",
    "cs = sb.get_caesar(snap)\n",
    "a = cs.simulation.scale_factor\n",
    "z = sb.get_redshifts()\n",
    "clust_mass_thresh = 1e14"
   ]
  },
  {
   "cell_type": "code",
   "execution_count": 4,
   "id": "1476dcc8-cf4c-4bb1-a961-b154486c3211",
   "metadata": {},
   "outputs": [
    {
     "name": "stdout",
     "output_type": "stream",
     "text": [
      "Total number of central galaxies:  30429\n",
      "Total number of Mtot above 100000000000000.0 Msun:  2363\n",
      "Total number of central galaxies in clusters:  24\n"
     ]
    }
   ],
   "source": [
    "# We want all central galaxies in clusters\n",
    "central_gal_ind = np.asarray([i.GroupID for i in cs.galaxies if i.central==1]) # select central galaxies\n",
    "print('Total number of central galaxies: ', len(central_gal_ind))\n",
    "gals_in_clusters = [i.galaxy_index_list for i in cs.halos if i.masses['total']>clust_mass_thresh] # galaxies in masive halos\n",
    "gals_in_clusters = np.concatenate(gals_in_clusters)\n",
    "print(f'Total number of Mtot above {clust_mass_thresh} Msun: ', len(gals_in_clusters))\n",
    "central_in_cluster_id = central_gal_ind[np.isin(central_gal_ind, gals_in_clusters)]\n",
    "print('Total number of central galaxies in clusters: ', len(central_in_cluster_id))"
   ]
  },
  {
   "cell_type": "code",
   "execution_count": 5,
   "id": "a023f1d6-7d27-4242-b861-999ec54c0aad",
   "metadata": {},
   "outputs": [],
   "source": [
    "# Now that we have filtered the needed galaxies we can study their properties\n",
    "Ms      = np.asarray([i.masses['stellar'] for i in cs.galaxies])[central_in_cluster_id]\n",
    "Mh2     = np.asarray([i.masses['H2'] for i in cs.galaxies])[central_in_cluster_id]\n",
    "Mh1     = np.asarray([i.masses['HI'] for i in cs.galaxies])[central_in_cluster_id]\n",
    "Md      = np.asarray([i.masses['dust'] for i in cs.galaxies])[central_in_cluster_id]\n",
    "sfr     = np.asarray([i.sfr for i in cs.galaxies])[central_in_cluster_id]\n",
    "ages    = np.asarray([i.ages['mass_weighted'] for i in cs.galaxies])[central_in_cluster_id]\n",
    "bh_fedd = np.asarray([i.bh_fedd for i in cs.galaxies])[central_in_cluster_id]\n",
    "bh_mass = np.asarray([i.masses['bh'] for i in cs.galaxies])[central_in_cluster_id]\n",
    "met     = np.asarray([i.metallicities['mass_weighted'] for i in cs.galaxies])[central_in_cluster_id]\n",
    "met_cgm = np.asarray([i.metallicities['mass_weighted_cgm'] for i in cs.galaxies])[central_in_cluster_id]\n",
    "T       = np.asarray([i.temperatures['mass_weighted'] for i in cs.galaxies])[central_in_cluster_id]\n",
    "T_cgm   = np.asarray([i.temperatures['mass_weighted_cgm'] for i in cs.galaxies])[central_in_cluster_id]"
   ]
  },
  {
   "cell_type": "code",
   "execution_count": 6,
   "id": "657dbf1a-9327-4731-8ce1-960b82fa368e",
   "metadata": {},
   "outputs": [],
   "source": [
    "# we want also the info on the corresponding halos\n",
    "Mhalo      = np.asarray([i.halo.masses['total'] for i in cs.galaxies])[central_in_cluster_id]\n",
    "Mhalo_h2   = np.asarray([i.halo.masses['H2'] for i in cs.galaxies])[central_in_cluster_id] - Mh2\n",
    "Mhalo_h1   = np.asarray([i.halo.masses['HI'] for i in cs.galaxies])[central_in_cluster_id] - Mh1\n",
    "Mhalo_dust = np.asarray([i.halo.masses['dust'] for i in cs.galaxies])[central_in_cluster_id]-Md\n",
    "methalo    = np.asarray([i.halo.metallicities['mass_weighted'] for i in cs.galaxies])[central_in_cluster_id]\n",
    "Tvir       = np.asarray([i.halo.virial_quantities['temperature'] for i in cs.galaxies])[central_in_cluster_id]"
   ]
  },
  {
   "cell_type": "code",
   "execution_count": 7,
   "id": "84c3dea1-1ea5-4680-8035-e443d4c1ec8f",
   "metadata": {},
   "outputs": [],
   "source": [
    "# calculate oxygen abundance and DTM\n",
    "logoh12 = anal_func.Z_to_OH12(met)\n",
    "logoh12_h = anal_func.Z_to_OH12(methalo)\n",
    "dtm     = anal_func.Dust_to_Metal(Md, Mh2, logoh12)"
   ]
  },
  {
   "cell_type": "code",
   "execution_count": 8,
   "id": "caa5f2d2-b661-4941-826e-b48909660bf8",
   "metadata": {},
   "outputs": [
    {
     "name": "stderr",
     "output_type": "stream",
     "text": [
      "yt : [INFO     ] 2024-08-14 09:38:48,947 Opening /media/lorenzong/Data1/SIMBA_catalogs/m100n1024_129.hdf5\n",
      "yt : [INFO     ] 2024-08-14 09:38:48,955 Found 495012 halos\n",
      "yt : [INFO     ] 2024-08-14 09:38:48,958 Found 46575 galaxies\n"
     ]
    }
   ],
   "source": [
    "# Let's see how many satellites there are for each galaxy:\n",
    "from modules.anal_func.side_functions.search import findsatellites\n",
    "r = 50\n",
    "pos = np.asarray([i.pos for i in cs.galaxies])\n",
    "sat_ids = findsatellites(pos, sb, snap, r)"
   ]
  },
  {
   "cell_type": "code",
   "execution_count": null,
   "id": "0674deba-a8da-4be4-b398-d73f921f4561",
   "metadata": {},
   "outputs": [],
   "source": [
    "# DGR vs Mhalo colored with metallicity (black points are those with no dust at all)\n",
    "fig, ax = plt.subplots(1, 1, figsize=(10, 10))\n",
    "nodust = Md == 0\n",
    "sc = ax.scatter(np.log10(Mhalo), np.log10(Md / Mh2), c=logoh12, s=100)\n",
    "ax.scatter(np.log10(Mhalo)[nodust], -6.5*np.ones(len(Ms[nodust])), c='k', s=100)\n",
    "cbar = fig.colorbar(sc, ax=ax, fraction=0.046, pad=0.04)\n",
    "cbar.set_label(r'$\\log(\\rm O/H)+12$')\n",
    "ax.set_xlabel(r'$\\log(M_{\\rm halo}/M_{\\odot})$')\n",
    "ax.set_ylabel(r'$\\log(M_{\\rm dust}/M_{\\rm H_2})$')\n",
    "fig.savefig(os.path.join(scatter, 'DGR_Mhalo_met.png'), bbox_inches = 'tight')"
   ]
  },
  {
   "cell_type": "code",
   "execution_count": null,
   "id": "1d435af1-99ab-406a-860e-f3d0184de26a",
   "metadata": {},
   "outputs": [],
   "source": [
    "# DGR vs Mhalo colore with fraction of dust in the halo wrt in the satellites around the central (distance r)\n",
    "nsat = np.asarray([len(sat_ids[i]) for i in sat_ids])\n",
    "Md_tot      = np.asarray([i.masses['dust'] for i in cs.galaxies])\n",
    "Ms_tot      = np.asarray([i.masses['stellar'] for i in cs.galaxies])\n",
    "dustsat = np.asarray([sum(Md_tot[sat_ids[i]]) for i in sat_ids])\n",
    "masssat = np.asarray([sum(Ms_tot[sat_ids[i]]) for i in sat_ids])\n",
    "fig, ax = plt.subplots(1, 1, figsize=(10, 10))\n",
    "sc = ax.scatter(np.log10(Mhalo), np.log10(Md/Mh2), c=Mhalo_dust/dustsat, norm=colors.LogNorm(), s=100)\n",
    "cbar = fig.colorbar(sc, ax=ax, fraction=0.046, pad=0.04)\n",
    "cbar.set_label(r'$M_{\\rm dust, halo}/M_{\\rm dust, satell.}$')\n",
    "ax.set_xlabel(r'$\\log(M_{\\star}/M_{\\odot})$')\n",
    "ax.set_ylabel(r'$\\log(M_{\\rm dust}/M_{\\rm H_2})$')\n",
    "fig.savefig(os.path.join(scatter, 'DGR_Mhalo_dustinhalo.png'), bbox_inches = 'tight')"
   ]
  },
  {
   "cell_type": "code",
   "execution_count": null,
   "id": "e9d1d8a2-5a4d-4301-b000-c59891022ea8",
   "metadata": {},
   "outputs": [],
   "source": [
    "# Comparison with dust/star in the satellites around the central (at distance r) vs the fraction of dust diffused in the halo (so not in galaxies)\n",
    "# colored with the dust fraction i n the central\n",
    "# The size represents the number of satellites\n",
    "fig, ax = plt.subplots(1, 1, figsize=(10, 10))\n",
    "minreplace = dustsat[dustsat!=0].min()-0.3*dustsat[dustsat!=0].min()\n",
    "#dustsat[dustsat==0] = minreplace #pay attention here: run cell only once\n",
    "#ax.axhline(np.log10(minreplace), ls='--', c='r')\n",
    "sc = plt.scatter(np.log10(Mhalo_dust/Mhalo), np.log10(dustsat/Ms), c=Md/Ms, s=nsat*20, norm=colors.LogNorm())\n",
    "cbar = fig.colorbar(sc, ax=ax, fraction=0.046, pad=0.04)\n",
    "cbar.set_label(r'$M_{\\rm dust, central}/M_{\\star}$')\n",
    "ax.set_xlabel(r'$\\log(M_{\\rm dust, halo}/M_{\\rm tot})$')\n",
    "ax.set_ylabel(r'$\\log(M_{\\rm dust, satell.}/M_{\\rm central})$')\n",
    "ax.set_title(f'Satellites in r={r} kpc')\n",
    "plt.legend(*sc.legend_elements(\"sizes\", num=6, func=lambda x: x/20))\n",
    "fig.savefig(os.path.join(scatter, 'dust_sat_halo_cent.png'), bbox_inches = 'tight')"
   ]
  },
  {
   "cell_type": "code",
   "execution_count": 9,
   "id": "0b6c6177-3dd7-4759-839b-8748bcb15689",
   "metadata": {},
   "outputs": [
    {
     "name": "stdout",
     "output_type": "stream",
     "text": [
      "Finished with particle filters\n"
     ]
    }
   ],
   "source": [
    "# from modules.anal_func.filter_particles import copy_skeleton, filter_particles_by_obj\n",
    "# sb = anal.Simba('PC39BP4', size=25)\n",
    "# filter_particles_by_obj(cs, sb.get_sim_file(snap), snap, 'galaxy', [0,1], verbose=0, overwrite=True, ignore_fields=[], keyword=None)"
   ]
  },
  {
   "cell_type": "code",
   "execution_count": 2,
   "id": "305eed65-b9ed-4997-8c8d-a0fba31a5c2a",
   "metadata": {
    "scrolled": true
   },
   "outputs": [
    {
     "name": "stderr",
     "output_type": "stream",
     "text": [
      "yt : [INFO     ] 2024-08-15 13:47:11,995 Opening /media/lorenzong/Data1/SIMBA_catalogs/m100n1024_150.hdf5\n",
      "yt : [INFO     ] 2024-08-15 13:47:12,017 Found 465211 halos\n",
      "yt : [INFO     ] 2024-08-15 13:47:12,058 Found 55336 galaxies\n"
     ]
    },
    {
     "name": "stdout",
     "output_type": "stream",
     "text": [
      "Processing current snap: /home/lorenzong/analize_simba_cgm/output/fits/converted_from_hdf5/m100n1024_149.fits\n",
      "Processing current snap: /home/lorenzong/analize_simba_cgm/output/fits/converted_from_hdf5/m100n1024_148.fits\n",
      "Processing current snap: /home/lorenzong/analize_simba_cgm/output/fits/converted_from_hdf5/m100n1024_147.fits\n",
      "Processing current snap: /home/lorenzong/analize_simba_cgm/output/fits/converted_from_hdf5/m100n1024_146.fits\n",
      "Processing current snap: /home/lorenzong/analize_simba_cgm/output/fits/converted_from_hdf5/m100n1024_145.fits\n",
      "Processing current snap: /home/lorenzong/analize_simba_cgm/output/fits/converted_from_hdf5/m100n1024_144.fits\n",
      "Processing current snap: /home/lorenzong/analize_simba_cgm/output/fits/converted_from_hdf5/m100n1024_143.fits\n",
      "Processing current snap: /home/lorenzong/analize_simba_cgm/output/fits/converted_from_hdf5/m100n1024_142.fits\n",
      "Processing current snap: /home/lorenzong/analize_simba_cgm/output/fits/converted_from_hdf5/m100n1024_141.fits\n",
      "Processing current snap: /home/lorenzong/analize_simba_cgm/output/fits/converted_from_hdf5/m100n1024_140.fits\n",
      "Processing current snap: /home/lorenzong/analize_simba_cgm/output/fits/converted_from_hdf5/m100n1024_139.fits\n",
      "Processing current snap: /home/lorenzong/analize_simba_cgm/output/fits/converted_from_hdf5/m100n1024_138.fits\n",
      "Processing current snap: /home/lorenzong/analize_simba_cgm/output/fits/converted_from_hdf5/m100n1024_137.fits\n",
      "Processing current snap: /home/lorenzong/analize_simba_cgm/output/fits/converted_from_hdf5/m100n1024_136.fits\n",
      "Processing current snap: /home/lorenzong/analize_simba_cgm/output/fits/converted_from_hdf5/m100n1024_135.fits\n",
      "Processing current snap: /home/lorenzong/analize_simba_cgm/output/fits/converted_from_hdf5/m100n1024_134.fits\n",
      "Processing current snap: /home/lorenzong/analize_simba_cgm/output/fits/converted_from_hdf5/m100n1024_133.fits\n",
      "Processing current snap: /home/lorenzong/analize_simba_cgm/output/fits/converted_from_hdf5/m100n1024_132.fits\n",
      "Processing current snap: /home/lorenzong/analize_simba_cgm/output/fits/converted_from_hdf5/m100n1024_131.fits\n",
      "Processing current snap: /home/lorenzong/analize_simba_cgm/output/fits/converted_from_hdf5/m100n1024_130.fits\n",
      "Processing current snap: /home/lorenzong/analize_simba_cgm/output/fits/converted_from_hdf5/m100n1024_129.fits\n",
      "Processing current snap: /home/lorenzong/analize_simba_cgm/output/fits/converted_from_hdf5/m100n1024_128.fits\n",
      "Processing current snap: /home/lorenzong/analize_simba_cgm/output/fits/converted_from_hdf5/m100n1024_127.fits\n",
      "Processing current snap: /home/lorenzong/analize_simba_cgm/output/fits/converted_from_hdf5/m100n1024_126.fits\n",
      "Processing current snap: /home/lorenzong/analize_simba_cgm/output/fits/converted_from_hdf5/m100n1024_125.fits\n",
      "Processing current snap: /home/lorenzong/analize_simba_cgm/output/fits/converted_from_hdf5/m100n1024_124.fits\n",
      "Processing current snap: /home/lorenzong/analize_simba_cgm/output/fits/converted_from_hdf5/m100n1024_123.fits\n",
      "Processing current snap: /home/lorenzong/analize_simba_cgm/output/fits/converted_from_hdf5/m100n1024_122.fits\n",
      "Processing current snap: /home/lorenzong/analize_simba_cgm/output/fits/converted_from_hdf5/m100n1024_121.fits\n",
      "Processing current snap: /home/lorenzong/analize_simba_cgm/output/fits/converted_from_hdf5/m100n1024_120.fits\n",
      "Processing current snap: /home/lorenzong/analize_simba_cgm/output/fits/converted_from_hdf5/m100n1024_119.fits\n",
      "Processing current snap: /home/lorenzong/analize_simba_cgm/output/fits/converted_from_hdf5/m100n1024_118.fits\n",
      "Processing current snap: /home/lorenzong/analize_simba_cgm/output/fits/converted_from_hdf5/m100n1024_117.fits\n",
      "Processing current snap: /home/lorenzong/analize_simba_cgm/output/fits/converted_from_hdf5/m100n1024_116.fits\n",
      "Processing current snap: /home/lorenzong/analize_simba_cgm/output/fits/converted_from_hdf5/m100n1024_115.fits\n",
      "Processing current snap: /home/lorenzong/analize_simba_cgm/output/fits/converted_from_hdf5/m100n1024_114.fits\n",
      "Processing current snap: /home/lorenzong/analize_simba_cgm/output/fits/converted_from_hdf5/m100n1024_113.fits\n",
      "Processing current snap: /home/lorenzong/analize_simba_cgm/output/fits/converted_from_hdf5/m100n1024_112.fits\n",
      "Processing current snap: /home/lorenzong/analize_simba_cgm/output/fits/converted_from_hdf5/m100n1024_111.fits\n",
      "Processing current snap: /home/lorenzong/analize_simba_cgm/output/fits/converted_from_hdf5/m100n1024_110.fits\n",
      "Processing current snap: /home/lorenzong/analize_simba_cgm/output/fits/converted_from_hdf5/m100n1024_109.fits\n",
      "Processing current snap: /home/lorenzong/analize_simba_cgm/output/fits/converted_from_hdf5/m100n1024_108.fits\n",
      "Processing current snap: /home/lorenzong/analize_simba_cgm/output/fits/converted_from_hdf5/m100n1024_107.fits\n",
      "Processing current snap: /home/lorenzong/analize_simba_cgm/output/fits/converted_from_hdf5/m100n1024_106.fits\n",
      "Processing current snap: /home/lorenzong/analize_simba_cgm/output/fits/converted_from_hdf5/m100n1024_105.fits\n",
      "Processing current snap: /home/lorenzong/analize_simba_cgm/output/fits/converted_from_hdf5/m100n1024_104.fits\n",
      "Processing current snap: /home/lorenzong/analize_simba_cgm/output/fits/converted_from_hdf5/m100n1024_103.fits\n",
      "Processing current snap: /home/lorenzong/analize_simba_cgm/output/fits/converted_from_hdf5/m100n1024_102.fits\n",
      "Processing current snap: /home/lorenzong/analize_simba_cgm/output/fits/converted_from_hdf5/m100n1024_101.fits\n",
      "Processing current snap: /home/lorenzong/analize_simba_cgm/output/fits/converted_from_hdf5/m100n1024_100.fits\n",
      "Processing current snap: /home/lorenzong/analize_simba_cgm/output/fits/converted_from_hdf5/m100n1024_099.fits\n",
      "Processing current snap: /home/lorenzong/analize_simba_cgm/output/fits/converted_from_hdf5/m100n1024_098.fits\n",
      "Processing current snap: /home/lorenzong/analize_simba_cgm/output/fits/converted_from_hdf5/m100n1024_097.fits\n",
      "Processing current snap: /home/lorenzong/analize_simba_cgm/output/fits/converted_from_hdf5/m100n1024_096.fits\n",
      "Processing current snap: /home/lorenzong/analize_simba_cgm/output/fits/converted_from_hdf5/m100n1024_095.fits\n",
      "Processing current snap: /home/lorenzong/analize_simba_cgm/output/fits/converted_from_hdf5/m100n1024_094.fits\n",
      "Processing current snap: /home/lorenzong/analize_simba_cgm/output/fits/converted_from_hdf5/m100n1024_093.fits\n",
      "Processing current snap: /home/lorenzong/analize_simba_cgm/output/fits/converted_from_hdf5/m100n1024_092.fits\n",
      "Processing current snap: /home/lorenzong/analize_simba_cgm/output/fits/converted_from_hdf5/m100n1024_091.fits\n",
      "Processing current snap: /home/lorenzong/analize_simba_cgm/output/fits/converted_from_hdf5/m100n1024_090.fits\n",
      "Processing current snap: /home/lorenzong/analize_simba_cgm/output/fits/converted_from_hdf5/m100n1024_089.fits\n",
      "Processing current snap: /home/lorenzong/analize_simba_cgm/output/fits/converted_from_hdf5/m100n1024_088.fits\n",
      "Processing current snap: /home/lorenzong/analize_simba_cgm/output/fits/converted_from_hdf5/m100n1024_087.fits\n",
      "Processing current snap: /home/lorenzong/analize_simba_cgm/output/fits/converted_from_hdf5/m100n1024_086.fits\n",
      "Processing current snap: /home/lorenzong/analize_simba_cgm/output/fits/converted_from_hdf5/m100n1024_085.fits\n",
      "Processing current snap: /home/lorenzong/analize_simba_cgm/output/fits/converted_from_hdf5/m100n1024_084.fits\n",
      "Processing current snap: /home/lorenzong/analize_simba_cgm/output/fits/converted_from_hdf5/m100n1024_083.fits\n",
      "Processing current snap: /home/lorenzong/analize_simba_cgm/output/fits/converted_from_hdf5/m100n1024_082.fits\n",
      "Processing current snap: /home/lorenzong/analize_simba_cgm/output/fits/converted_from_hdf5/m100n1024_081.fits\n",
      "Processing current snap: /home/lorenzong/analize_simba_cgm/output/fits/converted_from_hdf5/m100n1024_080.fits\n",
      "Processing current snap: /home/lorenzong/analize_simba_cgm/output/fits/converted_from_hdf5/m100n1024_079.fits\n",
      "Processing current snap: /home/lorenzong/analize_simba_cgm/output/fits/converted_from_hdf5/m100n1024_078.fits\n",
      "Processing current snap: /home/lorenzong/analize_simba_cgm/output/fits/converted_from_hdf5/m100n1024_077.fits\n",
      "Processing current snap: /home/lorenzong/analize_simba_cgm/output/fits/converted_from_hdf5/m100n1024_076.fits\n",
      "Processing current snap: /home/lorenzong/analize_simba_cgm/output/fits/converted_from_hdf5/m100n1024_075.fits\n",
      "Processing current snap: /home/lorenzong/analize_simba_cgm/output/fits/converted_from_hdf5/m100n1024_074.fits\n",
      "Processing current snap: /home/lorenzong/analize_simba_cgm/output/fits/converted_from_hdf5/m100n1024_073.fits\n",
      "Processing current snap: /home/lorenzong/analize_simba_cgm/output/fits/converted_from_hdf5/m100n1024_072.fits\n",
      "Processing current snap: /home/lorenzong/analize_simba_cgm/output/fits/converted_from_hdf5/m100n1024_071.fits\n",
      "Processing current snap: /home/lorenzong/analize_simba_cgm/output/fits/converted_from_hdf5/m100n1024_070.fits\n",
      "Processing current snap: /home/lorenzong/analize_simba_cgm/output/fits/converted_from_hdf5/m100n1024_069.fits\n",
      "Processing current snap: /home/lorenzong/analize_simba_cgm/output/fits/converted_from_hdf5/m100n1024_068.fits\n",
      "Processing current snap: /home/lorenzong/analize_simba_cgm/output/fits/converted_from_hdf5/m100n1024_067.fits\n",
      "Processing current snap: /home/lorenzong/analize_simba_cgm/output/fits/converted_from_hdf5/m100n1024_066.fits\n",
      "Processing current snap: /home/lorenzong/analize_simba_cgm/output/fits/converted_from_hdf5/m100n1024_065.fits\n",
      "Processing current snap: /home/lorenzong/analize_simba_cgm/output/fits/converted_from_hdf5/m100n1024_064.fits\n",
      "Processing current snap: /home/lorenzong/analize_simba_cgm/output/fits/converted_from_hdf5/m100n1024_063.fits\n",
      "Processing current snap: /home/lorenzong/analize_simba_cgm/output/fits/converted_from_hdf5/m100n1024_062.fits\n",
      "Processing current snap: /home/lorenzong/analize_simba_cgm/output/fits/converted_from_hdf5/m100n1024_061.fits\n",
      "Processing current snap: /home/lorenzong/analize_simba_cgm/output/fits/converted_from_hdf5/m100n1024_060.fits\n",
      "Processing current snap: /home/lorenzong/analize_simba_cgm/output/fits/converted_from_hdf5/m100n1024_059.fits\n",
      "Processing current snap: /home/lorenzong/analize_simba_cgm/output/fits/converted_from_hdf5/m100n1024_058.fits\n",
      "Processing current snap: /home/lorenzong/analize_simba_cgm/output/fits/converted_from_hdf5/m100n1024_057.fits\n",
      "Processing current snap: /home/lorenzong/analize_simba_cgm/output/fits/converted_from_hdf5/m100n1024_056.fits\n",
      "Processing current snap: /home/lorenzong/analize_simba_cgm/output/fits/converted_from_hdf5/m100n1024_055.fits\n",
      "Processing current snap: /home/lorenzong/analize_simba_cgm/output/fits/converted_from_hdf5/m100n1024_054.fits\n",
      "Processing current snap: /home/lorenzong/analize_simba_cgm/output/fits/converted_from_hdf5/m100n1024_053.fits\n",
      "Processing current snap: /home/lorenzong/analize_simba_cgm/output/fits/converted_from_hdf5/m100n1024_052.fits\n",
      "Processing current snap: /home/lorenzong/analize_simba_cgm/output/fits/converted_from_hdf5/m100n1024_051.fits\n",
      "Processing current snap: /home/lorenzong/analize_simba_cgm/output/fits/converted_from_hdf5/m100n1024_050.fits\n",
      "Processing current snap: /home/lorenzong/analize_simba_cgm/output/fits/converted_from_hdf5/m100n1024_049.fits\n",
      "Processing current snap: /home/lorenzong/analize_simba_cgm/output/fits/converted_from_hdf5/m100n1024_048.fits\n",
      "Processing current snap: /home/lorenzong/analize_simba_cgm/output/fits/converted_from_hdf5/m100n1024_047.fits\n",
      "Processing current snap: /home/lorenzong/analize_simba_cgm/output/fits/converted_from_hdf5/m100n1024_046.fits\n",
      "Processing current snap: /home/lorenzong/analize_simba_cgm/output/fits/converted_from_hdf5/m100n1024_045.fits\n",
      "Processing current snap: /home/lorenzong/analize_simba_cgm/output/fits/converted_from_hdf5/m100n1024_044.fits\n",
      "dict_keys(['44', '45', '46', '47', '48', '49', '50', '51', '52', '53', '54', '55', '56', '57', '58', '59', '60', '61', '62', '63', '64', '65', '66', '67', '68', '69', '70', '71', '72', '73', '74', '75', '76', '77', '78', '79', '80', '81', '82', '83', '84', '85', '86', '87', '88', '89', '90', '91', '92', '93', '94', '95', '96', '97', '98', '99', '100', '101', '102', '103', '104', '105', '106', '107', '108', '109', '110', '111', '112', '113', '114', '115', '116', '117', '118', '119', '120', '121', '122', '123', '124', '125', '126', '127', '128', '129', '130', '131', '132', '133', '134', '135', '136', '137', '138', '139', '140', '141', '142', '143', '144', '145', '146', '147', '148', '149', 'GroupID'])\n",
      "[55061, 55061, 55061, 55061, 55061, 55061, 55061, 55061, 55061, 55061, 55061, 55061, 55061, 55061, 55061, 55061, 55061, 55061, 55061, 55061, 55061, 55061, 55061, 55061, 55061, 55061, 55061, 55061, 55061, 55061, 55061, 55061, 55061, 55061, 55061, 55061, 55061, 55061, 55061, 55061, 55061, 55061, 55061, 55061, 55061, 55061, 55061, 55061, 55061, 55061, 55061, 55061, 55061, 55061, 55061, 55061, 55061, 55061, 55061, 55061, 55061, 55061, 55061, 55061, 55061, 55061, 55061, 55061, 55061, 55061, 55061, 55061, 55061, 55061, 55061, 55061, 55061, 55061, 55061, 55061, 55061, 55061, 55061, 55061, 55061, 55061, 55061, 55061, 55061, 55061, 55061, 55061, 55061, 55061, 55061, 55061, 55061, 55061, 55061, 55061, 55061, 55061, 55061, 55061, 55061, 55061, 55061]\n",
      "Saving...\n"
     ]
    }
   ],
   "source": [
    "from modules.anal_func.read_progenitors import read_progen\n",
    "sb = anal.Simba('PC39BP4', size=100)\n",
    "cs = sb.get_caesar(150)\n",
    "totids = np.asarray([i.GroupID for i in cs.galaxies])\n",
    "read_progen(totids, 'progenitors_most_mass_nocaesar.fits', np.arange(44, 150, 1).astype(int), sb, '/home/lorenzong/analize_simba_cgm/output/fits/converted_from_hdf5')"
   ]
  },
  {
   "cell_type": "code",
   "execution_count": null,
   "id": "f34e9e00-976b-4b53-8412-d62930aa6c69",
   "metadata": {},
   "outputs": [],
   "source": []
  },
  {
   "cell_type": "code",
   "execution_count": null,
   "id": "37d6f46f-6804-4669-b8f1-ab143aa333b9",
   "metadata": {},
   "outputs": [],
   "source": []
  },
  {
   "cell_type": "code",
   "execution_count": 4,
   "id": "397cab57-e1c8-46da-ba69-0052420066c3",
   "metadata": {},
   "outputs": [],
   "source": [
    "# initialize the Simba class, which import the needed paths\n",
    "sb = anal.Simba('PC39BP4', size=100)\n",
    "# initialize the SavePaths class to create destinations\n",
    "sv = anal.SavePaths() \n",
    "pltsv  = sv.get_filetype_path('plot')\n",
    "scatter = sv.create_subdir(pltsv, 'scatter')"
   ]
  },
  {
   "cell_type": "code",
   "execution_count": 5,
   "id": "77e00e80-8a71-4b20-aae9-246900aea972",
   "metadata": {},
   "outputs": [
    {
     "name": "stderr",
     "output_type": "stream",
     "text": [
      "yt : [INFO     ] 2024-08-15 19:07:13,833 Opening /media/lorenzong/Data1/SIMBA_catalogs/m100n1024_150.hdf5\n",
      "yt : [INFO     ] 2024-08-15 19:07:13,866 Found 465211 halos\n",
      "yt : [INFO     ] 2024-08-15 19:07:13,872 Found 55336 galaxies\n"
     ]
    }
   ],
   "source": [
    "from modules.anal_func.build_history import BuildHistory\n",
    "from modules.anal_func.read_progenitors import read_progen\n",
    "sb = anal.Simba('PC39BP4', size=100)\n",
    "cs = sb.get_caesar(150)\n",
    "totids = np.asarray([i.GroupID for i in cs.galaxies])\n",
    "sb = anal.Simba('PC39BP4', size=100)\n",
    "sfh = BuildHistory(sb, '/home/lorenzong/analize_simba_cgm/output/fits/converted_from_hdf5', progfilename='progenitors_most_mass_nocaesar.fits')"
   ]
  },
  {
   "cell_type": "code",
   "execution_count": 6,
   "id": "0c9749a6-7c40-49a9-a481-60009f45a024",
   "metadata": {},
   "outputs": [],
   "source": [
    "hist = sfh.get_history_indx(totids[:1000], start_snap=44, end_snap=149)"
   ]
  },
  {
   "cell_type": "code",
   "execution_count": 7,
   "id": "ac77528a-016a-4964-bc3f-13188e4d3847",
   "metadata": {
    "scrolled": true
   },
   "outputs": [
    {
     "name": "stdout",
     "output_type": "stream",
     "text": [
      "Number of snapshots: 106\n",
      "Opening /home/lorenzong/analize_simba_cgm/output/fits/converted_from_hdf5/m100n1024_044.fits\n",
      "Opening /home/lorenzong/analize_simba_cgm/output/fits/converted_from_hdf5/m100n1024_045.fits\n",
      "Opening /home/lorenzong/analize_simba_cgm/output/fits/converted_from_hdf5/m100n1024_046.fits\n",
      "Opening /home/lorenzong/analize_simba_cgm/output/fits/converted_from_hdf5/m100n1024_047.fits\n",
      "Opening /home/lorenzong/analize_simba_cgm/output/fits/converted_from_hdf5/m100n1024_048.fits\n",
      "Opening /home/lorenzong/analize_simba_cgm/output/fits/converted_from_hdf5/m100n1024_049.fits\n",
      "Opening /home/lorenzong/analize_simba_cgm/output/fits/converted_from_hdf5/m100n1024_050.fits\n",
      "Opening /home/lorenzong/analize_simba_cgm/output/fits/converted_from_hdf5/m100n1024_051.fits\n",
      "Opening /home/lorenzong/analize_simba_cgm/output/fits/converted_from_hdf5/m100n1024_052.fits\n",
      "Opening /home/lorenzong/analize_simba_cgm/output/fits/converted_from_hdf5/m100n1024_053.fits\n",
      "Opening /home/lorenzong/analize_simba_cgm/output/fits/converted_from_hdf5/m100n1024_054.fits\n",
      "Opening /home/lorenzong/analize_simba_cgm/output/fits/converted_from_hdf5/m100n1024_055.fits\n",
      "Opening /home/lorenzong/analize_simba_cgm/output/fits/converted_from_hdf5/m100n1024_056.fits\n",
      "Opening /home/lorenzong/analize_simba_cgm/output/fits/converted_from_hdf5/m100n1024_057.fits\n",
      "Opening /home/lorenzong/analize_simba_cgm/output/fits/converted_from_hdf5/m100n1024_058.fits\n",
      "Opening /home/lorenzong/analize_simba_cgm/output/fits/converted_from_hdf5/m100n1024_059.fits\n",
      "Opening /home/lorenzong/analize_simba_cgm/output/fits/converted_from_hdf5/m100n1024_060.fits\n",
      "Opening /home/lorenzong/analize_simba_cgm/output/fits/converted_from_hdf5/m100n1024_061.fits\n",
      "Opening /home/lorenzong/analize_simba_cgm/output/fits/converted_from_hdf5/m100n1024_062.fits\n",
      "Opening /home/lorenzong/analize_simba_cgm/output/fits/converted_from_hdf5/m100n1024_063.fits\n",
      "Opening /home/lorenzong/analize_simba_cgm/output/fits/converted_from_hdf5/m100n1024_064.fits\n",
      "Opening /home/lorenzong/analize_simba_cgm/output/fits/converted_from_hdf5/m100n1024_065.fits\n",
      "Opening /home/lorenzong/analize_simba_cgm/output/fits/converted_from_hdf5/m100n1024_066.fits\n",
      "Opening /home/lorenzong/analize_simba_cgm/output/fits/converted_from_hdf5/m100n1024_067.fits\n",
      "Opening /home/lorenzong/analize_simba_cgm/output/fits/converted_from_hdf5/m100n1024_068.fits\n",
      "Opening /home/lorenzong/analize_simba_cgm/output/fits/converted_from_hdf5/m100n1024_069.fits\n",
      "Opening /home/lorenzong/analize_simba_cgm/output/fits/converted_from_hdf5/m100n1024_070.fits\n",
      "Opening /home/lorenzong/analize_simba_cgm/output/fits/converted_from_hdf5/m100n1024_071.fits\n",
      "Opening /home/lorenzong/analize_simba_cgm/output/fits/converted_from_hdf5/m100n1024_072.fits\n",
      "Opening /home/lorenzong/analize_simba_cgm/output/fits/converted_from_hdf5/m100n1024_073.fits\n",
      "Opening /home/lorenzong/analize_simba_cgm/output/fits/converted_from_hdf5/m100n1024_074.fits\n",
      "Opening /home/lorenzong/analize_simba_cgm/output/fits/converted_from_hdf5/m100n1024_075.fits\n",
      "Opening /home/lorenzong/analize_simba_cgm/output/fits/converted_from_hdf5/m100n1024_076.fits\n",
      "Opening /home/lorenzong/analize_simba_cgm/output/fits/converted_from_hdf5/m100n1024_077.fits\n",
      "Opening /home/lorenzong/analize_simba_cgm/output/fits/converted_from_hdf5/m100n1024_078.fits\n",
      "Opening /home/lorenzong/analize_simba_cgm/output/fits/converted_from_hdf5/m100n1024_079.fits\n",
      "Opening /home/lorenzong/analize_simba_cgm/output/fits/converted_from_hdf5/m100n1024_080.fits\n",
      "Opening /home/lorenzong/analize_simba_cgm/output/fits/converted_from_hdf5/m100n1024_081.fits\n",
      "Opening /home/lorenzong/analize_simba_cgm/output/fits/converted_from_hdf5/m100n1024_082.fits\n",
      "Opening /home/lorenzong/analize_simba_cgm/output/fits/converted_from_hdf5/m100n1024_083.fits\n",
      "Opening /home/lorenzong/analize_simba_cgm/output/fits/converted_from_hdf5/m100n1024_084.fits\n",
      "Opening /home/lorenzong/analize_simba_cgm/output/fits/converted_from_hdf5/m100n1024_085.fits\n",
      "Opening /home/lorenzong/analize_simba_cgm/output/fits/converted_from_hdf5/m100n1024_086.fits\n",
      "Opening /home/lorenzong/analize_simba_cgm/output/fits/converted_from_hdf5/m100n1024_087.fits\n",
      "Opening /home/lorenzong/analize_simba_cgm/output/fits/converted_from_hdf5/m100n1024_088.fits\n",
      "Opening /home/lorenzong/analize_simba_cgm/output/fits/converted_from_hdf5/m100n1024_089.fits\n",
      "Opening /home/lorenzong/analize_simba_cgm/output/fits/converted_from_hdf5/m100n1024_090.fits\n",
      "Opening /home/lorenzong/analize_simba_cgm/output/fits/converted_from_hdf5/m100n1024_091.fits\n",
      "Opening /home/lorenzong/analize_simba_cgm/output/fits/converted_from_hdf5/m100n1024_092.fits\n",
      "Opening /home/lorenzong/analize_simba_cgm/output/fits/converted_from_hdf5/m100n1024_093.fits\n",
      "Opening /home/lorenzong/analize_simba_cgm/output/fits/converted_from_hdf5/m100n1024_094.fits\n",
      "Opening /home/lorenzong/analize_simba_cgm/output/fits/converted_from_hdf5/m100n1024_095.fits\n",
      "Opening /home/lorenzong/analize_simba_cgm/output/fits/converted_from_hdf5/m100n1024_096.fits\n",
      "Opening /home/lorenzong/analize_simba_cgm/output/fits/converted_from_hdf5/m100n1024_097.fits\n",
      "Opening /home/lorenzong/analize_simba_cgm/output/fits/converted_from_hdf5/m100n1024_098.fits\n",
      "Opening /home/lorenzong/analize_simba_cgm/output/fits/converted_from_hdf5/m100n1024_099.fits\n",
      "Opening /home/lorenzong/analize_simba_cgm/output/fits/converted_from_hdf5/m100n1024_100.fits\n",
      "Opening /home/lorenzong/analize_simba_cgm/output/fits/converted_from_hdf5/m100n1024_101.fits\n",
      "Opening /home/lorenzong/analize_simba_cgm/output/fits/converted_from_hdf5/m100n1024_102.fits\n",
      "Opening /home/lorenzong/analize_simba_cgm/output/fits/converted_from_hdf5/m100n1024_103.fits\n",
      "Opening /home/lorenzong/analize_simba_cgm/output/fits/converted_from_hdf5/m100n1024_104.fits\n",
      "Opening /home/lorenzong/analize_simba_cgm/output/fits/converted_from_hdf5/m100n1024_105.fits\n",
      "Opening /home/lorenzong/analize_simba_cgm/output/fits/converted_from_hdf5/m100n1024_106.fits\n",
      "Opening /home/lorenzong/analize_simba_cgm/output/fits/converted_from_hdf5/m100n1024_107.fits\n",
      "Opening /home/lorenzong/analize_simba_cgm/output/fits/converted_from_hdf5/m100n1024_108.fits\n",
      "Opening /home/lorenzong/analize_simba_cgm/output/fits/converted_from_hdf5/m100n1024_109.fits\n",
      "Opening /home/lorenzong/analize_simba_cgm/output/fits/converted_from_hdf5/m100n1024_110.fits\n",
      "Opening /home/lorenzong/analize_simba_cgm/output/fits/converted_from_hdf5/m100n1024_111.fits\n",
      "Opening /home/lorenzong/analize_simba_cgm/output/fits/converted_from_hdf5/m100n1024_112.fits\n",
      "Opening /home/lorenzong/analize_simba_cgm/output/fits/converted_from_hdf5/m100n1024_113.fits\n",
      "Opening /home/lorenzong/analize_simba_cgm/output/fits/converted_from_hdf5/m100n1024_114.fits\n",
      "Opening /home/lorenzong/analize_simba_cgm/output/fits/converted_from_hdf5/m100n1024_115.fits\n",
      "Opening /home/lorenzong/analize_simba_cgm/output/fits/converted_from_hdf5/m100n1024_116.fits\n",
      "Opening /home/lorenzong/analize_simba_cgm/output/fits/converted_from_hdf5/m100n1024_117.fits\n",
      "Opening /home/lorenzong/analize_simba_cgm/output/fits/converted_from_hdf5/m100n1024_118.fits\n",
      "Opening /home/lorenzong/analize_simba_cgm/output/fits/converted_from_hdf5/m100n1024_119.fits\n",
      "Opening /home/lorenzong/analize_simba_cgm/output/fits/converted_from_hdf5/m100n1024_120.fits\n",
      "Opening /home/lorenzong/analize_simba_cgm/output/fits/converted_from_hdf5/m100n1024_121.fits\n",
      "Opening /home/lorenzong/analize_simba_cgm/output/fits/converted_from_hdf5/m100n1024_122.fits\n",
      "Opening /home/lorenzong/analize_simba_cgm/output/fits/converted_from_hdf5/m100n1024_123.fits\n",
      "Opening /home/lorenzong/analize_simba_cgm/output/fits/converted_from_hdf5/m100n1024_124.fits\n",
      "Opening /home/lorenzong/analize_simba_cgm/output/fits/converted_from_hdf5/m100n1024_125.fits\n",
      "Opening /home/lorenzong/analize_simba_cgm/output/fits/converted_from_hdf5/m100n1024_126.fits\n",
      "Opening /home/lorenzong/analize_simba_cgm/output/fits/converted_from_hdf5/m100n1024_127.fits\n",
      "Opening /home/lorenzong/analize_simba_cgm/output/fits/converted_from_hdf5/m100n1024_128.fits\n",
      "Opening /home/lorenzong/analize_simba_cgm/output/fits/converted_from_hdf5/m100n1024_129.fits\n",
      "Opening /home/lorenzong/analize_simba_cgm/output/fits/converted_from_hdf5/m100n1024_130.fits\n",
      "Opening /home/lorenzong/analize_simba_cgm/output/fits/converted_from_hdf5/m100n1024_131.fits\n",
      "Opening /home/lorenzong/analize_simba_cgm/output/fits/converted_from_hdf5/m100n1024_132.fits\n",
      "Opening /home/lorenzong/analize_simba_cgm/output/fits/converted_from_hdf5/m100n1024_133.fits\n",
      "Opening /home/lorenzong/analize_simba_cgm/output/fits/converted_from_hdf5/m100n1024_134.fits\n",
      "Opening /home/lorenzong/analize_simba_cgm/output/fits/converted_from_hdf5/m100n1024_135.fits\n",
      "Opening /home/lorenzong/analize_simba_cgm/output/fits/converted_from_hdf5/m100n1024_136.fits\n",
      "Opening /home/lorenzong/analize_simba_cgm/output/fits/converted_from_hdf5/m100n1024_137.fits\n",
      "Opening /home/lorenzong/analize_simba_cgm/output/fits/converted_from_hdf5/m100n1024_138.fits\n",
      "Opening /home/lorenzong/analize_simba_cgm/output/fits/converted_from_hdf5/m100n1024_139.fits\n",
      "Opening /home/lorenzong/analize_simba_cgm/output/fits/converted_from_hdf5/m100n1024_140.fits\n",
      "Opening /home/lorenzong/analize_simba_cgm/output/fits/converted_from_hdf5/m100n1024_141.fits\n",
      "Opening /home/lorenzong/analize_simba_cgm/output/fits/converted_from_hdf5/m100n1024_142.fits\n",
      "Opening /home/lorenzong/analize_simba_cgm/output/fits/converted_from_hdf5/m100n1024_143.fits\n",
      "Opening /home/lorenzong/analize_simba_cgm/output/fits/converted_from_hdf5/m100n1024_144.fits\n",
      "Opening /home/lorenzong/analize_simba_cgm/output/fits/converted_from_hdf5/m100n1024_145.fits\n",
      "Opening /home/lorenzong/analize_simba_cgm/output/fits/converted_from_hdf5/m100n1024_146.fits\n",
      "Opening /home/lorenzong/analize_simba_cgm/output/fits/converted_from_hdf5/m100n1024_147.fits\n",
      "Opening /home/lorenzong/analize_simba_cgm/output/fits/converted_from_hdf5/m100n1024_148.fits\n",
      "Opening /home/lorenzong/analize_simba_cgm/output/fits/converted_from_hdf5/m100n1024_149.fits\n"
     ]
    }
   ],
   "source": [
    "sfr = sfh.get_property_history(['pos_0', 'pos_1', 'stellar_masses', 'sfr', 'GroupID'])"
   ]
  },
  {
   "cell_type": "code",
   "execution_count": 8,
   "id": "e1d24de0-8e7c-4430-9b0d-220fb1cb3c70",
   "metadata": {},
   "outputs": [
    {
     "data": {
      "image/png": "[encoded data removed]",
      "text/plain": [
       "<Figure size 640x480 with 1 Axes>"
      ]
     },
     "metadata": {},
     "output_type": "display_data"
    }
   ],
   "source": [
    "plt.plot((sfr['sfr']/sfr['stellar_masses'])[:,2])\n",
    "plt.yscale('log')"
   ]
  },
  {
   "cell_type": "code",
   "execution_count": 9,
   "id": "3b7492a7-65f7-4018-a56d-a84ea078256f",
   "metadata": {},
   "outputs": [
    {
     "data": {
      "image/png": "[encoded data removed]",
      "text/plain": [
       "<Figure size 1500x1000 with 2 Axes>"
      ]
     },
     "metadata": {},
     "output_type": "display_data"
    }
   ],
   "source": [
    "sfh.plot_history([0, 1, 2, 3, 4, 5], cosmo, 2)"
   ]
  },
  {
   "cell_type": "code",
   "execution_count": null,
   "id": "0357acd3-9bcd-4e98-98cb-bd2b004c8ec9",
   "metadata": {},
   "outputs": [],
   "source": []
  },
  {
   "cell_type": "code",
   "execution_count": null,
   "id": "4e894277-8e4b-4cc8-8c4d-94e7a59cba91",
   "metadata": {},
   "outputs": [],
   "source": []
  },
  {
   "cell_type": "code",
   "execution_count": null,
   "id": "d2ec0800-3a69-4873-98a8-9fcdb5229553",
   "metadata": {},
   "outputs": [],
   "source": []
  },
  {
   "cell_type": "code",
   "execution_count": null,
   "id": "8f325141-350c-4563-a9e5-b0f1a3351749",
   "metadata": {},
   "outputs": [],
   "source": []
  },
  {
   "cell_type": "code",
   "execution_count": null,
   "id": "43a53ce7-891e-4b88-a034-5da942a24031",
   "metadata": {},
   "outputs": [],
   "source": []
  },
  {
   "cell_type": "code",
   "execution_count": null,
   "id": "7df0bc94-5c94-4b8c-a751-3eaf048c56c8",
   "metadata": {},
   "outputs": [],
   "source": []
  },
  {
   "cell_type": "code",
   "execution_count": null,
   "id": "28d5b92d-d039-4555-9fd2-f804fb3417f1",
   "metadata": {},
   "outputs": [],
   "source": []
  },
  {
   "cell_type": "code",
   "execution_count": null,
   "id": "6d86edc3-7c7d-4206-9a28-bad871644821",
   "metadata": {},
   "outputs": [],
   "source": []
  },
  {
   "cell_type": "code",
   "execution_count": null,
   "id": "6ddd12d3-d3b9-46f3-aa7e-734eb2e87414",
   "metadata": {},
   "outputs": [],
   "source": []
  }
 ],
 "metadata": {
  "kernelspec": {
   "display_name": "pd_env",
   "language": "python",
   "name": "pd_env"
  },
  "language_info": {
   "codemirror_mode": {
    "name": "ipython",
    "version": 3
   },
   "file_extension": ".py",
   "mimetype": "text/x-python",
   "name": "python",
   "nbconvert_exporter": "python",
   "pygments_lexer": "ipython3",
   "version": "3.9.19"
  }
 },
 "nbformat": 4,
 "nbformat_minor": 5
}
