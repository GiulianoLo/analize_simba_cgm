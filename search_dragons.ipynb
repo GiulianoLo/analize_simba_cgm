{
 "cells": [
  {
   "cell_type": "code",
   "execution_count": 33,
   "id": "0cd82bd4-7937-4af0-9292-e3e4b837f272",
   "metadata": {},
   "outputs": [],
   "source": [
    "import numpy as np\n",
    "import matplotlib.pyplot as plt\n",
    "import yt, caesar\n",
    "from modules.visualize.render_rgb import RenderRGB, SingleRender\n",
    "import modules as anal\n",
    "import modules.anal_func as anal_func"
   ]
  },
  {
   "cell_type": "code",
   "execution_count": 34,
   "id": "ad36a83d-ad73-465b-90cc-9e1df3a07d03",
   "metadata": {},
   "outputs": [
    {
     "name": "stdout",
     "output_type": "stream",
     "text": [
      "Snap 104 is at z=1.022199708398802\n",
      "/mnt/home/glorenzon/SIMBA_catalogs/simba50_snaps/full/snap_m50n512_104.hdf5\n"
     ]
    }
   ],
   "source": [
    "snap = 104\n",
    "n = 60\n",
    "sb = anal.Simba('cis', size='50_full')\n",
    "z = sb.get_z_from_snap(snap)\n",
    "print(f'Snap {snap} is at z={z}')\n",
    "snapfile = sb.get_sim_file(snap)\n",
    "catfile  = sb.get_caesar_file(snap)\n",
    "print(snapfile)"
   ]
  },
  {
   "cell_type": "code",
   "execution_count": 35,
   "id": "24f54a02-cc2c-4b2c-91d6-9a6f60d6c8c2",
   "metadata": {},
   "outputs": [
    {
     "name": "stderr",
     "output_type": "stream",
     "text": [
      "yt : [INFO     ] 2024-10-25 15:42:21,686 Opening /mnt/home/glorenzon/SIMBA_catalogs/simba50_snaps/full//Groups/m50n512_104.hdf5\n",
      "yt : [INFO     ] 2024-10-25 15:42:22,464 Found 66167 halos\n",
      "yt : [INFO     ] 2024-10-25 15:42:23,755 Found 4868 galaxies\n"
     ]
    }
   ],
   "source": [
    "cs = sb.get_caesar(snap)\n",
    "pos = np.asarray([i.pos for i in cs.galaxies])\n",
    "ids  = np.asarray([i.GroupID for i in cs.galaxies])"
   ]
  },
  {
   "cell_type": "code",
   "execution_count": 36,
   "id": "1e8844ea-113e-4b2b-91da-ce4dd18aa4e4",
   "metadata": {},
   "outputs": [],
   "source": [
    "h = cs.simulation.scale_factor\n",
    "merg_id = {}\n",
    "for g in range(len(pos)):\n",
    "    this = pos[g]\n",
    "    d = np.sqrt((pos[:,0]*h-pos[:,0][g]*h)**2+(pos[:,1]*h-pos[:,1][g]*h)**2+(pos[:,2]*h-pos[:,2][g]*h)**2)\n",
    "    mk = np.all([d>0, d<25], axis=0)\n",
    "    for i in ids[mk]:\n",
    "        if i not in merg_id:\n",
    "            merg_id[ids[g]]=i\n",
    "    \n",
    "    \n",
    "    "
   ]
  },
  {
   "cell_type": "code",
   "execution_count": 28,
   "id": "f841eed5-3ef3-459a-b472-342e1f2c22ba",
   "metadata": {
    "scrolled": true
   },
   "outputs": [
    {
     "data": {
      "text/plain": [
       "{0: 4579,\n",
       " 1: 4386,\n",
       " 2: 3882,\n",
       " 3: 4127,\n",
       " 6: 3742,\n",
       " 9: 4103,\n",
       " 10: 4287,\n",
       " 11: 4671,\n",
       " 17: 2930,\n",
       " 22: 4368,\n",
       " 23: 3934,\n",
       " 24: 4256,\n",
       " 25: 4391,\n",
       " 26: 4694,\n",
       " 30: 4716,\n",
       " 32: 3716,\n",
       " 34: 3732,\n",
       " 37: 3736,\n",
       " 38: 4277,\n",
       " 39: 4502,\n",
       " 44: 4240,\n",
       " 51: 4130,\n",
       " 61: 4690,\n",
       " 62: 4353,\n",
       " 67: 2820,\n",
       " 72: 3662,\n",
       " 83: 4247,\n",
       " 88: 2722,\n",
       " 94: 2017,\n",
       " 97: 3845,\n",
       " 116: 2858,\n",
       " 118: 4384,\n",
       " 119: 3681,\n",
       " 136: 4626,\n",
       " 144: 4529,\n",
       " 150: 4668,\n",
       " 169: 3753,\n",
       " 174: 3130,\n",
       " 228: 981,\n",
       " 234: 3721,\n",
       " 242: 1485,\n",
       " 244: 4439,\n",
       " 268: 2318,\n",
       " 279: 3016,\n",
       " 291: 4349,\n",
       " 297: 3319,\n",
       " 342: 2381,\n",
       " 344: 2934,\n",
       " 356: 4505,\n",
       " 383: 4814,\n",
       " 423: 2493,\n",
       " 443: 4451,\n",
       " 444: 4708,\n",
       " 469: 2849,\n",
       " 472: 2518,\n",
       " 546: 2707,\n",
       " 557: 2068,\n",
       " 559: 2836,\n",
       " 570: 3116,\n",
       " 581: 2124,\n",
       " 586: 2120,\n",
       " 609: 3016,\n",
       " 656: 2419,\n",
       " 711: 3351,\n",
       " 753: 3667,\n",
       " 810: 3368,\n",
       " 833: 3430,\n",
       " 983: 3857,\n",
       " 1047: 2744,\n",
       " 1055: 2419,\n",
       " 1074: 4058,\n",
       " 1143: 1397,\n",
       " 1150: 2695,\n",
       " 1200: 2951,\n",
       " 1219: 4357,\n",
       " 1220: 2325,\n",
       " 1262: 4377,\n",
       " 1277: 2070,\n",
       " 1305: 4865,\n",
       " 1396: 3634,\n",
       " 1401: 3566,\n",
       " 1428: 2598,\n",
       " 1472: 4259,\n",
       " 1478: 2254,\n",
       " 1484: 2515,\n",
       " 1542: 4121,\n",
       " 1553: 3960,\n",
       " 1559: 2248,\n",
       " 1573: 2048,\n",
       " 1583: 3708,\n",
       " 1648: 4383,\n",
       " 1783: 4325,\n",
       " 1910: 3016,\n",
       " 1949: 3054,\n",
       " 1961: 3796,\n",
       " 2000: 4497,\n",
       " 2001: 2542,\n",
       " 2007: 3661,\n",
       " 2035: 2105,\n",
       " 2132: 2930,\n",
       " 2157: 2867,\n",
       " 2264: 4108,\n",
       " 2269: 4378,\n",
       " 2276: 4699,\n",
       " 2358: 4406,\n",
       " 2407: 4560,\n",
       " 2409: 4688,\n",
       " 2419: 2767,\n",
       " 2429: 2450,\n",
       " 2479: 2894,\n",
       " 2491: 2923,\n",
       " 2633: 3536,\n",
       " 2644: 3551,\n",
       " 2666: 3683,\n",
       " 2693: 4353,\n",
       " 2715: 4145,\n",
       " 2900: 4193,\n",
       " 2933: 3016,\n",
       " 3094: 3361,\n",
       " 3170: 3762,\n",
       " 3171: 3340,\n",
       " 3202: 4391,\n",
       " 3231: 4008,\n",
       " 3316: 4371,\n",
       " 3320: 4637,\n",
       " 3453: 4067,\n",
       " 3518: 4651,\n",
       " 3602: 4789,\n",
       " 3624: 4716,\n",
       " 3646: 4391,\n",
       " 3754: 4127,\n",
       " 3767: 4391,\n",
       " 3788: 3882,\n",
       " 3822: 4371,\n",
       " 3840: 4391,\n",
       " 3873: 4857,\n",
       " 3887: 4208,\n",
       " 3892: 4240,\n",
       " 3928: 4671,\n",
       " 3946: 4524,\n",
       " 3982: 4210,\n",
       " 4004: 4391,\n",
       " 4081: 4232,\n",
       " 4092: 4579,\n",
       " 4208: 4391,\n",
       " 4361: 4383,\n",
       " 4383: 4671,\n",
       " 4424: 4579,\n",
       " 4517: 4579,\n",
       " 4573: 4694,\n",
       " 4600: 4671,\n",
       " 4607: 4651,\n",
       " 4647: 4716,\n",
       " 4651: 4671}"
      ]
     },
     "execution_count": 28,
     "metadata": {},
     "output_type": "execute_result"
    }
   ],
   "source": [
    "merg_id"
   ]
  },
  {
   "cell_type": "code",
   "execution_count": 37,
   "id": "080eb875-ddaf-403e-b50b-e436bd238611",
   "metadata": {},
   "outputs": [
    {
     "name": "stderr",
     "output_type": "stream",
     "text": [
      "yt : [INFO     ] 2024-10-25 15:42:56,806 ComovingIntegrationOn does not exist, falling back to OmegaLambda\n",
      "yt : [INFO     ] 2024-10-25 15:42:56,820 Calculating time from 4.945e-01 to be 1.840e+17 seconds\n",
      "yt : [INFO     ] 2024-10-25 15:42:56,822 Assuming length units are in kpc/h (comoving)\n",
      "yt : [INFO     ] 2024-10-25 15:42:56,929 Parameters: current_time              = 1.8402007737381914e+17 s\n",
      "yt : [INFO     ] 2024-10-25 15:42:56,930 Parameters: domain_dimensions         = [1 1 1]\n",
      "yt : [INFO     ] 2024-10-25 15:42:56,931 Parameters: domain_left_edge          = [0. 0. 0.]\n",
      "yt : [INFO     ] 2024-10-25 15:42:56,932 Parameters: domain_right_edge         = [50000. 50000. 50000.]\n",
      "yt : [INFO     ] 2024-10-25 15:42:56,933 Parameters: cosmological_simulation   = True\n",
      "yt : [INFO     ] 2024-10-25 15:42:56,933 Parameters: current_redshift          = 1.0221997149755864\n",
      "yt : [INFO     ] 2024-10-25 15:42:56,934 Parameters: omega_lambda              = 0.7\n",
      "yt : [INFO     ] 2024-10-25 15:42:56,935 Parameters: omega_matter              = 0.3\n",
      "yt : [INFO     ] 2024-10-25 15:42:56,935 Parameters: omega_radiation           = 0.0\n",
      "yt : [INFO     ] 2024-10-25 15:42:56,936 Parameters: hubble_constant           = 0.68\n",
      "yt : [INFO     ] 2024-10-25 15:42:59,823 Allocating for 2.684e+08 particles\n",
      "Loading particle index: 100%|██████████| 512/512 [00:00<00:00, 515.78it/s]\n"
     ]
    },
    {
     "data": {
      "text/plain": [
       "<matplotlib.collections.PathCollection at 0x7f6d28615490>"
      ]
     },
     "execution_count": 37,
     "metadata": {},
     "output_type": "execute_result"
    },
    {
     "data": {
      "image/png": "[encoded data removed]",
      "text/plain": [
       "<Figure size 640x480 with 1 Axes>"
      ]
     },
     "metadata": {},
     "output_type": "display_data"
    }
   ],
   "source": [
    "gal1 = [i for i in cs.galaxies][0]\n",
    "gal2 = [i for i in cs.galaxies][4579]\n",
    "merglist = gal1.glist + gal2.glist\n",
    "ds = yt.load(snapfile)\n",
    "ad = ds.all_data()\n",
    "pos = ad['PartType0', 'Coordinates'].in_units('kpc').value[gal1.glist]\n",
    "plt.scatter(pos[:, 0], pos[:, 2])\n",
    "pos = ad['PartType0', 'Coordinates'].in_units('kpc').value[gal2.glist]\n",
    "plt.scatter(pos[:, 0], pos[:, 2])"
   ]
  },
  {
   "cell_type": "code",
   "execution_count": null,
   "id": "43f96bf3-3274-4738-a31e-438727ef1524",
   "metadata": {},
   "outputs": [],
   "source": []
  }
 ],
 "metadata": {
  "kernelspec": {
   "display_name": "Python (pd39)",
   "language": "python",
   "name": "pd39"
  },
  "language_info": {
   "codemirror_mode": {
    "name": "ipython",
    "version": 3
   },
   "file_extension": ".py",
   "mimetype": "text/x-python",
   "name": "python",
   "nbconvert_exporter": "python",
   "pygments_lexer": "ipython3",
   "version": "3.9.19"
  }
 },
 "nbformat": 4,
 "nbformat_minor": 5
}
