{
 "cells": [
  {
   "cell_type": "code",
   "execution_count": 1,
   "id": "61944499-50f7-44af-8eaf-31d8c28c646b",
   "metadata": {},
   "outputs": [],
   "source": [
    "import os\n",
    "import caesar\n",
    "import numpy as np\n",
    "import matplotlib.pyplot as plt\n",
    "from matplotlib import colors\n",
    "import modules as anal\n",
    "import modules.anal_func as anal_func\n",
    "\n",
    "from astropy.cosmology import LambdaCDM\n",
    "import astropy.units as u\n",
    "from astropy.io import fits\n",
    "from scipy import interpolate\n",
    "\n",
    "from modules.powdermod.makesed import MakeSED\n",
    "\n",
    "cosmo = LambdaCDM(H0 = 68, Om0= 0.3, Ode0= 0.7, Ob0=0.048)\n",
    "plt.rcParams.update({'font.size': 28})\n",
    "\n",
    "sb = anal.Simba('cis', size='50_full')"
   ]
  },
  {
   "cell_type": "code",
   "execution_count": null,
   "id": "8ae8e669-3af4-40f2-a1d6-d739d7001983",
   "metadata": {},
   "outputs": [],
   "source": [
    "# select the galaxies for the SED"
   ]
  },
  {
   "cell_type": "code",
   "execution_count": null,
   "id": "38bcd80c-b121-4bb7-83fc-dee5937ca9f1",
   "metadata": {},
   "outputs": [],
   "source": [
    "cs = sb.get_caesar(104)\n",
    "id = np.asarray([i.GroupID for i in cs.galaxies])\n",
    "d = np.asarray([i.masses['dust'] for i in cs.galaxies])\n",
    "g = np.asarray([i.masses['H2'] for i in cs.galaxies])\n",
    "m = np.asarray([i.masses['stellar'] for i in cs.galaxies])\n",
    "sfr = np.asarray([i.sfr for i in cs.galaxies])\n",
    "\n",
    "mk = np.all([np.log10(sfr/m) < -11, m > 1e10], axis=0)\n",
    "plt.scatter(np.log10(d/m)[mk], np.log10(g/m)[mk])\n",
    "plt.savefig('scatter_dust_gas.png')\n",
    "\n",
    "print(id[np.where(np.log10(d/m)[mk]==np.log10(d/m)[mk].max())])\n",
    "print(id[np.where(np.log10(d/m)[mk]<-3)])\n",
    "print(np.log10(d/m)[151])"
   ]
  },
  {
   "cell_type": "code",
   "execution_count": 2,
   "id": "f707c3ee-3e33-431b-9aec-9565ebfff85f",
   "metadata": {},
   "outputs": [],
   "source": [
    "# initialize SED making class\n",
    "hydro_dir_base = '/mnt/home/glorenzon/simbanator/output/hdf5/filtered_part_files/'\n",
    "preselect = '/mnt/home/glorenzon/simbanator/output/txt/target_selection_for_SED/test_selection.txt'\n",
    "selection_file = 'selection_compare_jwst_21'\n",
    "makesed = MakeSED(sb, nnodes=1, model_run_name='m50', hydro_dir_base=hydro_dir_base, selection_file=selection_file, preselect=preselect)"
   ]
  },
  {
   "cell_type": "code",
   "execution_count": 3,
   "id": "d7ef0130-9af5-43a9-917e-28d1c9b1a142",
   "metadata": {},
   "outputs": [
    {
     "name": "stderr",
     "output_type": "stream",
     "text": [
      "yt : [INFO     ] 2024-10-26 15:00:24,803 Opening /mnt/home/glorenzon/SIMBA_catalogs/simba50_snaps/full//Groups/m50n512_100.hdf5\n",
      "yt : [INFO     ] 2024-10-26 15:00:24,876 Found 66852 halos\n",
      "yt : [INFO     ] 2024-10-26 15:00:24,921 Found 4730 galaxies\n"
     ]
    },
    {
     "name": "stdout",
     "output_type": "stream",
     "text": [
      "Inserted aggregated data for: snap100\n",
      "===================== snap100/code_coods [[11216.85367188  8394.57078125 19224.71164063]]\n",
      "Processing galaxy:  1  in snap  100\n",
      "Initializing position:  [11216.85367188  8394.57078125 19224.71164063]\n",
      "writing slurm submission master script file\n",
      "/mnt/home/glorenzon/simbanator/output/hdf5/powderday_sed_out/snap_100/master.snap100.job\n"
     ]
    }
   ],
   "source": [
    "makesed.selection_gals([100], [1]) # create the hdf5 selection\n",
    "makesed.create_master('cluster', 'region', 50) # create the parameters masters"
   ]
  },
  {
   "cell_type": "code",
   "execution_count": null,
   "id": "85552244-1478-460a-b8aa-38e9e99a7640",
   "metadata": {},
   "outputs": [],
   "source": [
    "fig, ax = makesed.plotsed('090', 0, ret=True)"
   ]
  },
  {
   "cell_type": "code",
   "execution_count": null,
   "id": "c44bec60-3d51-48f6-a6d9-d4019c9c59d9",
   "metadata": {},
   "outputs": [],
   "source": [
    "ax.set_ylim(1e-10, 1e11)\n",
    "fig.savefig('again.png')"
   ]
  },
  {
   "cell_type": "code",
   "execution_count": null,
   "id": "dfe59ca6-ce83-48b0-8ce6-d691e645b1cb",
   "metadata": {},
   "outputs": [],
   "source": []
  },
  {
   "cell_type": "code",
   "execution_count": null,
   "id": "eb2ff6a5-9a17-41db-84e7-dad5ef00d2bf",
   "metadata": {},
   "outputs": [],
   "source": [
    "cs = sb.get_caesar(104)"
   ]
  },
  {
   "cell_type": "code",
   "execution_count": null,
   "id": "274a91b4-ac2a-4c33-bf8f-06029dabb73e",
   "metadata": {},
   "outputs": [],
   "source": [
    "[i.pos.in_units('code_length').value for i in cs.galaxies][0]"
   ]
  },
  {
   "cell_type": "code",
   "execution_count": null,
   "id": "1ef82601-ec0b-4c5b-bf3a-312c2d50d8e1",
   "metadata": {},
   "outputs": [],
   "source": [
    "coods_code = np.array([g.pos.in_units('code_length').value for g in cs.galaxies])"
   ]
  },
  {
   "cell_type": "code",
   "execution_count": null,
   "id": "80be1461-af84-4cc9-b062-48d62b27f713",
   "metadata": {},
   "outputs": [],
   "source": [
    "path_to_im = '/mnt/home/glorenzon/simbanator/output/hdf5/powderday_sed_out/snap_090/gal_0/convolved.090.hdf5'\n",
    "import h5py\n",
    "f = h5py.File(path_to_im, 'r')\n"
   ]
  },
  {
   "cell_type": "code",
   "execution_count": null,
   "id": "0e6580ca-8d3f-4d48-82dd-efb36c021680",
   "metadata": {},
   "outputs": [],
   "source": [
    "convolved_image = f['image_data'][1]\n",
    "filter_name = f['filter_names'][1]\n",
    "print(filter_name)"
   ]
  },
  {
   "cell_type": "code",
   "execution_count": null,
   "id": "64fc5ad3-21c7-4d6f-8db7-9e8eec396507",
   "metadata": {},
   "outputs": [],
   "source": [
    "f['g_SDSS.filter'][...]"
   ]
  },
  {
   "cell_type": "code",
   "execution_count": null,
   "id": "2022c72a-fdb7-4a89-836e-11dcabdc75fb",
   "metadata": {},
   "outputs": [],
   "source": [
    "import matplotlib.pyplot as plt\n",
    "import numpy as np\n",
    "import matplotlib.colors as colors\n",
    "\n",
    "fig = plt.figure(figsize=(15, 10))\n",
    "ax = fig.add_subplot(111)\n",
    "\n",
    "w = f['image_data'].attrs['width']\n",
    "w_unit = f['image_data'].attrs['width_unit'].astype(str)\n",
    "cax = ax.imshow(np.log(convolved_image), cmap=plt.cm.viridis,\n",
    "                origin='lower', extent=[-w, w, -w, w])\n",
    "ax.tick_params(axis='both', which='major', labelsize=10)\n",
    "ax.set_xlabel('x ({})'.format(w_unit))\n",
    "ax.set_ylabel('y ({})'.format(w_unit))\n",
    "ax.set_xlim(-10, 10)\n",
    "ax.set_ylim(-10, 10)\n",
    "plt.colorbar(cax, label='log Luminosity (ergs/s)', format='%.0e')\n",
    "plt.title(\"Convolved image: {}\".format(filter_name))\n",
    "plt.tight_layout()\n",
    "plt.savefig('first_light_g.png')\n",
    "plt.show()"
   ]
  },
  {
   "cell_type": "code",
   "execution_count": null,
   "id": "896d6424-ce51-4ebd-ae68-eb5e908f9731",
   "metadata": {},
   "outputs": [],
   "source": []
  }
 ],
 "metadata": {
  "kernelspec": {
   "display_name": "Python (pd39)",
   "language": "python",
   "name": "pd39"
  },
  "language_info": {
   "codemirror_mode": {
    "name": "ipython",
    "version": 3
   },
   "file_extension": ".py",
   "mimetype": "text/x-python",
   "name": "python",
   "nbconvert_exporter": "python",
   "pygments_lexer": "ipython3",
   "version": "3.9.19"
  }
 },
 "nbformat": 4,
 "nbformat_minor": 5
}
