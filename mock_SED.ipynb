{
 "cells": [
  {
   "cell_type": "code",
   "execution_count": 1,
   "id": "61944499-50f7-44af-8eaf-31d8c28c646b",
   "metadata": {},
   "outputs": [],
   "source": [
    "import os\n",
    "import caesar\n",
    "import numpy as np\n",
    "import matplotlib.pyplot as plt\n",
    "from matplotlib import colors\n",
    "import modules as anal\n",
    "import modules.anal_func as anal_func\n",
    "\n",
    "from astropy.cosmology import LambdaCDM\n",
    "import astropy.units as u\n",
    "from astropy.io import fits\n",
    "from scipy import interpolate\n",
    "\n",
    "\n",
    "cosmo = LambdaCDM(H0 = 68, Om0= 0.3, Ode0= 0.7, Ob0=0.048)\n",
    "plt.rcParams.update({'font.size': 28})\n",
    "\n",
    "sb = anal.Simba('PC39BP4', size=100)"
   ]
  },
  {
   "cell_type": "code",
   "execution_count": null,
   "id": "8ae8e669-3af4-40f2-a1d6-d739d7001983",
   "metadata": {},
   "outputs": [],
   "source": [
    "# select the galaxies for the SED"
   ]
  },
  {
   "cell_type": "code",
   "execution_count": null,
   "id": "f707c3ee-3e33-431b-9aec-9565ebfff85f",
   "metadata": {},
   "outputs": [],
   "source": [
    "# initialize SED making class\n",
    "hydro_dir_base = '/home/lorenzong/analize_simba_cgm/output/hdf5/filtered_part_files/'\n",
    "selection_file = '/home/lorenzong/analize_simba_cgm/output/hdf5/target_selection_for_SED/'\n",
    "makesed = MakeSED(sb, nnodes=1, model_run_name='m100', hydro_dir_base, selection_file)"
   ]
  },
  {
   "cell_type": "code",
   "execution_count": null,
   "id": "d7ef0130-9af5-43a9-917e-28d1c9b1a142",
   "metadata": {},
   "outputs": [],
   "source": [
    "# \n",
    "makesed.selection_gals()\n",
    "makesed.create_master()"
   ]
  },
  {
   "cell_type": "code",
   "execution_count": null,
   "id": "85552244-1478-460a-b8aa-38e9e99a7640",
   "metadata": {},
   "outputs": [],
   "source": []
  },
  {
   "cell_type": "code",
   "execution_count": null,
   "id": "5c04aca3-ed08-4ed6-a716-a5460e825fe6",
   "metadata": {},
   "outputs": [],
   "source": []
  },
  {
   "cell_type": "code",
   "execution_count": null,
   "id": "c44bec60-3d51-48f6-a6d9-d4019c9c59d9",
   "metadata": {},
   "outputs": [],
   "source": []
  },
  {
   "cell_type": "code",
   "execution_count": null,
   "id": "dfe59ca6-ce83-48b0-8ce6-d691e645b1cb",
   "metadata": {},
   "outputs": [],
   "source": []
  },
  {
   "cell_type": "code",
   "execution_count": null,
   "id": "eb2ff6a5-9a17-41db-84e7-dad5ef00d2bf",
   "metadata": {},
   "outputs": [],
   "source": []
  },
  {
   "cell_type": "code",
   "execution_count": null,
   "id": "274a91b4-ac2a-4c33-bf8f-06029dabb73e",
   "metadata": {},
   "outputs": [],
   "source": []
  },
  {
   "cell_type": "code",
   "execution_count": null,
   "id": "1ef82601-ec0b-4c5b-bf3a-312c2d50d8e1",
   "metadata": {},
   "outputs": [],
   "source": []
  },
  {
   "cell_type": "code",
   "execution_count": null,
   "id": "8b533cac-c8f5-4ad5-9387-6daec9f4cf47",
   "metadata": {},
   "outputs": [],
   "source": []
  },
  {
   "cell_type": "code",
   "execution_count": null,
   "id": "80be1461-af84-4cc9-b062-48d62b27f713",
   "metadata": {},
   "outputs": [],
   "source": []
  }
 ],
 "metadata": {
  "kernelspec": {
   "display_name": "pd_env",
   "language": "python",
   "name": "pd_env"
  },
  "language_info": {
   "codemirror_mode": {
    "name": "ipython",
    "version": 3
   },
   "file_extension": ".py",
   "mimetype": "text/x-python",
   "name": "python",
   "nbconvert_exporter": "python",
   "pygments_lexer": "ipython3",
   "version": "3.9.19"
  }
 },
 "nbformat": 4,
 "nbformat_minor": 5
}
