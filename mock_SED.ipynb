{
 "cells": [
  {
   "cell_type": "code",
   "execution_count": 1,
   "id": "61944499-50f7-44af-8eaf-31d8c28c646b",
   "metadata": {},
   "outputs": [],
   "source": [
    "import os\n",
    "import caesar\n",
    "import numpy as np\n",
    "import matplotlib.pyplot as plt\n",
    "from matplotlib import colors\n",
    "import modules as anal\n",
    "import modules.anal_func as anal_func\n",
    "\n",
    "from astropy.cosmology import LambdaCDM\n",
    "import astropy.units as u\n",
    "from astropy.io import fits\n",
    "from scipy import interpolate\n",
    "\n",
    "from modules.powdermod.makesed import MakeSED\n",
    "\n",
    "cosmo = LambdaCDM(H0 = 68, Om0= 0.3, Ode0= 0.7, Ob0=0.048)\n",
    "plt.rcParams.update({'font.size': 28})\n",
    "\n",
    "sb = anal.Simba('PC39BP4', size=25)"
   ]
  },
  {
   "cell_type": "code",
   "execution_count": 2,
   "id": "8ae8e669-3af4-40f2-a1d6-d739d7001983",
   "metadata": {},
   "outputs": [],
   "source": [
    "# select the galaxies for the SED"
   ]
  },
  {
   "cell_type": "code",
   "execution_count": 3,
   "id": "f707c3ee-3e33-431b-9aec-9565ebfff85f",
   "metadata": {},
   "outputs": [],
   "source": [
    "# initialize SED making class\n",
    "hydro_dir_base = '/home/lorenzong/analize_simba_cgm/output/hdf5/filtered_files/'\n",
    "preselect = '/home/lorenzong/analize_simba_cgm/output/txt/target_selection_for_SED/test_selection.txt'\n",
    "selection_file = 'test_entire_sfh'\n",
    "makesed = MakeSED(sb, nnodes=1, model_run_name='m25', hydro_dir_base=hydro_dir_base, selection_file=selection_file, preselect=preselect)"
   ]
  },
  {
   "cell_type": "code",
   "execution_count": 6,
   "id": "d7ef0130-9af5-43a9-917e-28d1c9b1a142",
   "metadata": {},
   "outputs": [
    {
     "name": "stderr",
     "output_type": "stream",
     "text": [
      "yt : [INFO     ] 2024-08-21 18:43:30,512 Opening /media/lorenzong/Data1/simba_hig_res/m25n512_129.hdf5\n",
      "yt : [INFO     ] 2024-08-21 18:43:30,529 Found 263961 halos\n",
      "yt : [INFO     ] 2024-08-21 18:43:30,536 Found 5290 galaxies\n"
     ]
    },
    {
     "name": "stdout",
     "output_type": "stream",
     "text": [
      "Inserted aggregated data for: snap129\n",
      "===================== snap129/code_coods [[17192.895 11200.677 13909.615]]\n",
      "Processing galaxy:  1  in snap  129\n",
      "Initializing position:  [17192.895 11200.677 13909.615]\n",
      "Generating local run script\n",
      "/home/lorenzong/analize_simba_cgm/output/hdf5/powderday_sed_out/snap_129/run_local.sh\n",
      "Executing local run script...\n",
      "Starting simulation...\n"
     ]
    },
    {
     "name": "stderr",
     "output_type": "stream",
     "text": [
      "yt : [INFO     ] 2024-08-21 18:43:32,165 Calculating time from 7.114e-01 to be 2.969e+17 seconds\n",
      "yt : [INFO     ] 2024-08-21 18:43:32,165 Assuming length units are in kpc/h (comoving)\n",
      "yt : [INFO     ] 2024-08-21 18:43:32,201 Parameters: current_time              = 2.968791388457766e+17 s\n",
      "yt : [INFO     ] 2024-08-21 18:43:32,201 Parameters: domain_dimensions         = [1 1 1]\n",
      "yt : [INFO     ] 2024-08-21 18:43:32,201 Parameters: domain_left_edge          = [-120. -120. -120.]\n",
      "yt : [INFO     ] 2024-08-21 18:43:32,201 Parameters: domain_right_edge         = [120. 120. 120.]\n",
      "yt : [INFO     ] 2024-08-21 18:43:32,201 Parameters: cosmological_simulation   = 1\n",
      "yt : [INFO     ] 2024-08-21 18:43:32,201 Parameters: current_redshift          = 0.4057579856290421\n",
      "yt : [INFO     ] 2024-08-21 18:43:32,201 Parameters: omega_lambda              = 0.7\n",
      "yt : [INFO     ] 2024-08-21 18:43:32,201 Parameters: omega_matter              = 0.3\n",
      "yt : [INFO     ] 2024-08-21 18:43:32,201 Parameters: omega_radiation           = 0.0\n",
      "yt : [INFO     ] 2024-08-21 18:43:32,201 Parameters: hubble_constant           = 0.68\n",
      "yt : [WARNING  ] 2024-08-21 18:43:32,201 A bounding box was explicitly specified, so we are disabling periodicity.\n",
      "yt : [INFO     ] 2024-08-21 18:43:32,212 Allocating for 1.814e+05 particles\n",
      "yt : [INFO     ] 2024-08-21 18:43:38,768 Calculating time from 7.114e-01 to be 2.969e+17 seconds\n",
      "yt : [INFO     ] 2024-08-21 18:43:38,768 Assuming length units are in kpc/h (comoving)\n",
      "yt : [INFO     ] 2024-08-21 18:43:38,792 Parameters: current_time              = 2.968791388457766e+17 s\n",
      "yt : [INFO     ] 2024-08-21 18:43:38,792 Parameters: domain_dimensions         = [1 1 1]\n",
      "yt : [INFO     ] 2024-08-21 18:43:38,792 Parameters: domain_left_edge          = [-120. -120. -120.]\n",
      "yt : [INFO     ] 2024-08-21 18:43:38,792 Parameters: domain_right_edge         = [120. 120. 120.]\n",
      "yt : [INFO     ] 2024-08-21 18:43:38,793 Parameters: cosmological_simulation   = 1\n",
      "yt : [INFO     ] 2024-08-21 18:43:38,793 Parameters: current_redshift          = 0.4057579856290421\n",
      "yt : [INFO     ] 2024-08-21 18:43:38,793 Parameters: omega_lambda              = 0.7\n",
      "yt : [INFO     ] 2024-08-21 18:43:38,793 Parameters: omega_matter              = 0.3\n",
      "yt : [INFO     ] 2024-08-21 18:43:38,793 Parameters: omega_radiation           = 0.0\n",
      "yt : [INFO     ] 2024-08-21 18:43:38,793 Parameters: hubble_constant           = 0.68\n",
      "yt : [WARNING  ] 2024-08-21 18:43:38,793 A bounding box was explicitly specified, so we are disabling periodicity.\n",
      "yt : [INFO     ] 2024-08-21 18:43:38,800 Allocating for 1.814e+05 particles\n",
      "yt : [INFO     ] 2024-08-21 18:43:39,046 Allocating octree with spatial range [-1.2000e+02, -1.2000e+02, -1.2000e+02] code_length to [1.2000e+02, 1.2000e+02, 1.2000e+02] code_length\n",
      "yt : [INFO     ] 2024-08-21 18:43:39,047 No particles found!\n",
      "yt : [WARNING  ] 2024-08-21 18:43:39,061 Field ('gas', 'density') already exists. To override use `force_override=True`.\n",
      "/home/lorenzong/anaconda3/envs/pd_env/lib/python3.9/site-packages/unyt/array.py:1906: RuntimeWarning: invalid value encountered in divide\n",
      "  out_arr = func(\n",
      "yt : [INFO     ] 2024-08-21 18:43:39,073 Calculating time from 7.114e-01 to be 2.969e+17 seconds\n",
      "yt : [INFO     ] 2024-08-21 18:43:39,073 Assuming length units are in kpc/h (comoving)\n",
      "yt : [INFO     ] 2024-08-21 18:43:39,094 Parameters: current_time              = 2.968791388457766e+17 s\n",
      "yt : [INFO     ] 2024-08-21 18:43:39,095 Parameters: domain_dimensions         = [1 1 1]\n",
      "yt : [INFO     ] 2024-08-21 18:43:39,095 Parameters: domain_left_edge          = [17164.21706834 11171.99929491 13880.93777147]\n",
      "yt : [INFO     ] 2024-08-21 18:43:39,095 Parameters: domain_right_edge         = [17221.57199416 11229.35422072 13938.29269728]\n",
      "yt : [INFO     ] 2024-08-21 18:43:39,095 Parameters: cosmological_simulation   = 1\n",
      "yt : [INFO     ] 2024-08-21 18:43:39,095 Parameters: current_redshift          = 0.4057579856290421\n",
      "yt : [INFO     ] 2024-08-21 18:43:39,095 Parameters: omega_lambda              = 0.7\n",
      "yt : [INFO     ] 2024-08-21 18:43:39,095 Parameters: omega_matter              = 0.3\n",
      "yt : [INFO     ] 2024-08-21 18:43:39,095 Parameters: omega_radiation           = 0.0\n",
      "yt : [INFO     ] 2024-08-21 18:43:39,095 Parameters: hubble_constant           = 0.68\n",
      "yt : [WARNING  ] 2024-08-21 18:43:39,095 A bounding box was explicitly specified, so we are disabling periodicity.\n",
      "yt : [INFO     ] 2024-08-21 18:43:39,102 Allocating for 1.814e+05 particles\n",
      "yt : [INFO     ] 2024-08-21 18:43:39,364 Allocating octree with spatial range [1.7164e+04, 1.1172e+04, 1.3881e+04] code_length to [1.7222e+04, 1.1229e+04, 1.3938e+04] code_length\n",
      "yt : [INFO     ] 2024-08-21 18:43:39,372 Allocating Octree for 179779 particles\n",
      "yt : [INFO     ] 2024-08-21 18:43:39,393 Allocated 87905 nodes in octree\n",
      "yt : [INFO     ] 2024-08-21 18:43:39,393 Octree bound 179779 particles\n",
      "Interpolating (scatter) SPH field PartType0: 1it [00:00,  1.12it/s]\n",
      "Interpolating (scatter) SPH field PartType0: 1it [00:00,  1.12it/s]\n",
      "Interpolating (scatter) SPH field PartType0: 1it [00:00,  1.11it/s]\n",
      "yt : [WARNING  ] 2024-08-21 18:43:42,148 Field ('gas', 'density') already exists. To override use `force_override=True`.\n",
      "Interpolating (scatter) SPH field PartType0: 1it [00:00,  1.12it/s]\n",
      "Interpolating (scatter) SPH field PartType0: 1it [00:00,  1.12it/s]\n",
      "Interpolating (scatter) SPH field PartType0: 1it [00:00,  1.12it/s]\n",
      "Interpolating (scatter) SPH field PartType0: 1it [00:00,  1.11it/s]\n",
      "Interpolating (scatter) SPH field PartType0: 1it [00:00,  1.12it/s]\n",
      "Interpolating (scatter) SPH field PartType0: 1it [00:00,  1.12it/s]\n",
      "Interpolating (scatter) SPH field PartType0: 1it [00:00,  1.12it/s]\n",
      "Interpolating (scatter) SPH field PartType0: 1it [00:00,  1.12it/s]\n",
      "Interpolating (scatter) SPH field PartType0: 1it [00:00,  1.12it/s]\n",
      "Interpolating (scatter) SPH field PartType0: 1it [00:00,  1.12it/s]\n",
      "Interpolating (scatter) SPH field PartType0: 1it [00:00,  1.11it/s]\n",
      "yt : [INFO     ] 2024-08-21 18:43:52,013 Allocating octree with spatial range [1.7164e+04, 1.1172e+04, 1.3881e+04] code_length to [1.7222e+04, 1.1229e+04, 1.3938e+04] code_length\n",
      "yt : [INFO     ] 2024-08-21 18:43:52,020 Allocating Octree for 179779 particles\n",
      "yt : [INFO     ] 2024-08-21 18:43:52,040 Allocated 87905 nodes in octree\n",
      "yt : [INFO     ] 2024-08-21 18:43:52,040 Octree bound 179779 particles\n",
      "/home/lorenzong/anaconda3/envs/pd_env/lib/python3.9/site-packages/astropy/units/quantity.py:666: RuntimeWarning: overflow encountered in expm1\n",
      "  result = super().__array_ufunc__(function, method, *arrays, **kwargs)\n",
      "WARNING: Version 1 dust file detected - discarding mean opacities and recomputing them [hyperion.dust.dust_type]\n",
      "WARNING: Planck function for lowest temperature not completely covered by opacity function [hyperion.dust.mean_opacities]\n",
      "WARNING: Version 1 dust file detected - discarding mean opacities and recomputing them [hyperion.dust.dust_type]\n",
      "WARNING: Planck function for lowest temperature not completely covered by opacity function [hyperion.dust.mean_opacities]\n",
      "WARNING: Version 1 dust file detected - discarding mean opacities and recomputing them [hyperion.dust.dust_type]\n",
      "WARNING: Planck function for lowest temperature not completely covered by opacity function [hyperion.dust.mean_opacities]\n",
      "100%|██████████| 177/177 [01:49<00:00,  1.62it/s]\n",
      "/home/lorenzong/.local/bin/hyperion:69: DeprecationWarning: The SafeConfigParser class has been renamed to ConfigParser in Python 3.2. This alias will be removed in future versions. Use ConfigParser directly instead.\n",
      "  config = SafeConfigParser()\n"
     ]
    },
    {
     "name": "stdout",
     "output_type": "stream",
     "text": [
      "Simulation complete\n"
     ]
    }
   ],
   "source": [
    "makesed.selection_gals([129], [1]) # create the hdf5 selection\n",
    "makesed.create_master('local') # create the parameters masters"
   ]
  },
  {
   "cell_type": "code",
   "execution_count": 4,
   "id": "85552244-1478-460a-b8aa-38e9e99a7640",
   "metadata": {},
   "outputs": [
    {
     "name": "stdout",
     "output_type": "stream",
     "text": [
      "saving\n"
     ]
    },
    {
     "ename": "AttributeError",
     "evalue": "'Axes' object has no attribute 'show'",
     "output_type": "error",
     "traceback": [
      "\u001b[0;31m---------------------------------------------------------------------------\u001b[0m",
      "\u001b[0;31mAttributeError\u001b[0m                            Traceback (most recent call last)",
      "Cell \u001b[0;32mIn[4], line 1\u001b[0m\n\u001b[0;32m----> 1\u001b[0m \u001b[43mmakesed\u001b[49m\u001b[38;5;241;43m.\u001b[39;49m\u001b[43mplotsed\u001b[49m\u001b[43m(\u001b[49m\u001b[38;5;241;43m129\u001b[39;49m\u001b[43m,\u001b[49m\u001b[43m \u001b[49m\u001b[38;5;241;43m1\u001b[39;49m\u001b[43m,\u001b[49m\u001b[43m \u001b[49m\u001b[43mshow\u001b[49m\u001b[38;5;241;43m=\u001b[39;49m\u001b[38;5;28;43;01mTrue\u001b[39;49;00m\u001b[43m)\u001b[49m\n",
      "File \u001b[0;32m~/analize_simba_cgm/analize_simba_cgm_code/modules/powdermod/makesed.py:222\u001b[0m, in \u001b[0;36mMakeSED.plotsed\u001b[0;34m(self, snap, gal, show)\u001b[0m\n\u001b[1;32m    220\u001b[0m plt\u001b[38;5;241m.\u001b[39msavefig(filepath, bbox_inches\u001b[38;5;241m=\u001b[39m\u001b[38;5;124m'\u001b[39m\u001b[38;5;124mtight\u001b[39m\u001b[38;5;124m'\u001b[39m)\n\u001b[1;32m    221\u001b[0m \u001b[38;5;28;01mif\u001b[39;00m show:\n\u001b[0;32m--> 222\u001b[0m     \u001b[43max\u001b[49m\u001b[38;5;241;43m.\u001b[39;49m\u001b[43mshow\u001b[49m()\n",
      "\u001b[0;31mAttributeError\u001b[0m: 'Axes' object has no attribute 'show'"
     ]
    }
   ],
   "source": [
    "makesed.plotsed(129, 1, show=True)"
   ]
  },
  {
   "cell_type": "code",
   "execution_count": null,
   "id": "5c04aca3-ed08-4ed6-a716-a5460e825fe6",
   "metadata": {},
   "outputs": [],
   "source": []
  },
  {
   "cell_type": "code",
   "execution_count": null,
   "id": "c44bec60-3d51-48f6-a6d9-d4019c9c59d9",
   "metadata": {},
   "outputs": [],
   "source": []
  },
  {
   "cell_type": "code",
   "execution_count": null,
   "id": "dfe59ca6-ce83-48b0-8ce6-d691e645b1cb",
   "metadata": {},
   "outputs": [],
   "source": []
  },
  {
   "cell_type": "code",
   "execution_count": null,
   "id": "eb2ff6a5-9a17-41db-84e7-dad5ef00d2bf",
   "metadata": {},
   "outputs": [],
   "source": []
  },
  {
   "cell_type": "code",
   "execution_count": null,
   "id": "274a91b4-ac2a-4c33-bf8f-06029dabb73e",
   "metadata": {},
   "outputs": [],
   "source": []
  },
  {
   "cell_type": "code",
   "execution_count": null,
   "id": "1ef82601-ec0b-4c5b-bf3a-312c2d50d8e1",
   "metadata": {},
   "outputs": [],
   "source": []
  },
  {
   "cell_type": "code",
   "execution_count": null,
   "id": "8b533cac-c8f5-4ad5-9387-6daec9f4cf47",
   "metadata": {},
   "outputs": [],
   "source": []
  },
  {
   "cell_type": "code",
   "execution_count": null,
   "id": "80be1461-af84-4cc9-b062-48d62b27f713",
   "metadata": {},
   "outputs": [],
   "source": []
  }
 ],
 "metadata": {
  "kernelspec": {
   "display_name": "pd_env",
   "language": "python",
   "name": "pd_env"
  },
  "language_info": {
   "codemirror_mode": {
    "name": "ipython",
    "version": 3
   },
   "file_extension": ".py",
   "mimetype": "text/x-python",
   "name": "python",
   "nbconvert_exporter": "python",
   "pygments_lexer": "ipython3",
   "version": "3.9.19"
  }
 },
 "nbformat": 4,
 "nbformat_minor": 5
}
