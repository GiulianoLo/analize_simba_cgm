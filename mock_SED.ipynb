{
 "cells": [
  {
   "cell_type": "code",
   "execution_count": 1,
   "id": "61944499-50f7-44af-8eaf-31d8c28c646b",
   "metadata": {},
   "outputs": [],
   "source": [
    "import os\n",
    "import caesar\n",
    "import numpy as np\n",
    "import matplotlib.pyplot as plt\n",
    "from matplotlib import colors\n",
    "import modules as anal\n",
    "import modules.anal_func as anal_func\n",
    "\n",
    "from astropy.cosmology import LambdaCDM\n",
    "import astropy.units as u\n",
    "from astropy.io import fits\n",
    "from scipy import interpolate\n",
    "\n",
    "from modules.powdermod.makesed import MakeSED\n",
    "\n",
    "cosmo = LambdaCDM(H0 = 68, Om0= 0.3, Ode0= 0.7, Ob0=0.048)\n",
    "plt.rcParams.update({'font.size': 28})\n",
    "\n",
    "sb = anal.Simba('cis', size='50_full')"
   ]
  },
  {
   "cell_type": "code",
   "execution_count": 14,
   "id": "8ae8e669-3af4-40f2-a1d6-d739d7001983",
   "metadata": {},
   "outputs": [],
   "source": [
    "# select the galaxies for the SED"
   ]
  },
  {
   "cell_type": "code",
   "execution_count": 2,
   "id": "f707c3ee-3e33-431b-9aec-9565ebfff85f",
   "metadata": {},
   "outputs": [],
   "source": [
    "# initialize SED making class\n",
    "hydro_dir_base = '/mnt/home/glorenzon/simbanator/analize_simba_cgm/output/hdf5/filtered_part_files/'\n",
    "preselect = '/mnt/home/glorenzon/simbanator/analize_simba_cgm/output/txt/target_selection_for_SED/test_selection.txt'\n",
    "selection_file = 'selection'\n",
    "makesed = MakeSED(sb, nnodes=1, model_run_name='m50', hydro_dir_base=hydro_dir_base, selection_file=selection_file, preselect=preselect)"
   ]
  },
  {
   "cell_type": "code",
   "execution_count": 21,
   "id": "d7ef0130-9af5-43a9-917e-28d1c9b1a142",
   "metadata": {},
   "outputs": [
    {
     "name": "stderr",
     "output_type": "stream",
     "text": [
      "yt : [INFO     ] 2024-09-21 12:09:01,287 Opening /mnt/home/glorenzon/SIMBA_catalogs/simba50_snaps/full//Groups/m50n512_104.hdf5\n",
      "yt : [INFO     ] 2024-09-21 12:09:02,159 Found 66167 halos\n",
      "yt : [INFO     ] 2024-09-21 12:09:03,479 Found 4868 galaxies\n"
     ]
    },
    {
     "name": "stdout",
     "output_type": "stream",
     "text": [
      "Inserted aggregated data for: snap104\n",
      "===================== snap104/code_coods [[24552.39875    32811.19796875 37314.56703125]]\n",
      "Processing galaxy:  0  in snap  104\n",
      "Initializing position:  [24552.39875    32811.19796875 37314.56703125]\n",
      "writing slurm submission master script file\n",
      "/mnt/home/glorenzon/simbanator/output/hdf5/powderday_sed_out/snap_104/master.snap104.job\n",
      "===================== snap090/code_coods [[24194.74796875 33212.0446875  37036.18671875]]\n",
      "Processing galaxy:  0  in snap  90\n",
      "Initializing position:  [24194.74796875 33212.0446875  37036.18671875]\n",
      "writing slurm submission master script file\n",
      "/mnt/home/glorenzon/simbanator/output/hdf5/powderday_sed_out/snap_090/master.snap90.job\n"
     ]
    }
   ],
   "source": [
    "makesed.selection_gals([104], [0]) # create the hdf5 selection\n",
    "makesed.create_master('cluster') # create the parameters masters"
   ]
  },
  {
   "cell_type": "code",
   "execution_count": 17,
   "id": "85552244-1478-460a-b8aa-38e9e99a7640",
   "metadata": {},
   "outputs": [
    {
     "name": "stdout",
     "output_type": "stream",
     "text": [
      "saving\n"
     ]
    }
   ],
   "source": [
    "fig, ax = makesed.plotsed('090', 0, ret=True)"
   ]
  },
  {
   "cell_type": "code",
   "execution_count": 11,
   "id": "c44bec60-3d51-48f6-a6d9-d4019c9c59d9",
   "metadata": {},
   "outputs": [],
   "source": [
    "ax.set_ylim(1e-10, 1e11)\n",
    "fig.savefig('again.png')"
   ]
  },
  {
   "cell_type": "code",
   "execution_count": null,
   "id": "dfe59ca6-ce83-48b0-8ce6-d691e645b1cb",
   "metadata": {},
   "outputs": [],
   "source": []
  },
  {
   "cell_type": "code",
   "execution_count": 22,
   "id": "eb2ff6a5-9a17-41db-84e7-dad5ef00d2bf",
   "metadata": {},
   "outputs": [
    {
     "name": "stderr",
     "output_type": "stream",
     "text": [
      "yt : [INFO     ] 2024-09-21 12:11:17,594 Opening /mnt/home/glorenzon/SIMBA_catalogs/simba50_snaps/full//Groups/m50n512_104.hdf5\n",
      "yt : [INFO     ] 2024-09-21 12:11:17,670 Found 66167 halos\n",
      "yt : [INFO     ] 2024-09-21 12:11:17,727 Found 4868 galaxies\n"
     ]
    }
   ],
   "source": [
    "cs = sb.get_caesar(104)"
   ]
  },
  {
   "cell_type": "code",
   "execution_count": 25,
   "id": "274a91b4-ac2a-4c33-bf8f-06029dabb73e",
   "metadata": {},
   "outputs": [
    {
     "data": {
      "text/plain": [
       "array([24552.39875   , 32811.19796875, 37314.56703125])"
      ]
     },
     "execution_count": 25,
     "metadata": {},
     "output_type": "execute_result"
    }
   ],
   "source": [
    "[i.pos.in_units('code_length').value for i in cs.galaxies][0]"
   ]
  },
  {
   "cell_type": "code",
   "execution_count": null,
   "id": "1ef82601-ec0b-4c5b-bf3a-312c2d50d8e1",
   "metadata": {},
   "outputs": [],
   "source": [
    "coods_code = np.array([g.pos.in_units('code_length').value for g in cs.galaxies])"
   ]
  },
  {
   "cell_type": "code",
   "execution_count": 8,
   "id": "80be1461-af84-4cc9-b062-48d62b27f713",
   "metadata": {},
   "outputs": [],
   "source": [
    "path_to_im = '/mnt/home/glorenzon/simbanator/output/hdf5/powderday_sed_out/snap_090/gal_0/convolved.090.hdf5'\n",
    "import h5py\n",
    "f = h5py.File(path_to_im, 'r')\n"
   ]
  },
  {
   "cell_type": "code",
   "execution_count": 11,
   "id": "0e6580ca-8d3f-4d48-82dd-efb36c021680",
   "metadata": {},
   "outputs": [
    {
     "name": "stdout",
     "output_type": "stream",
     "text": [
      "b'g_SDSS.filter'\n"
     ]
    }
   ],
   "source": [
    "convolved_image = f['image_data'][0]\n",
    "filter_name = f['filter_names'][1]\n",
    "print(filter_name)"
   ]
  },
  {
   "cell_type": "code",
   "execution_count": 13,
   "id": "64fc5ad3-21c7-4d6f-8db7-9e8eec396507",
   "metadata": {},
   "outputs": [
    {
     "data": {
      "text/plain": [
       "array([[0.372     , 0.00526185],\n",
       "       [0.382     , 0.0152338 ],\n",
       "       [0.392     , 0.0881389 ],\n",
       "       [0.402     , 0.191559  ],\n",
       "       [0.412     , 0.259924  ],\n",
       "       [0.422     , 0.297598  ],\n",
       "       [0.432     , 0.327996  ],\n",
       "       [0.442     , 0.354969  ],\n",
       "       [0.452     , 0.374454  ],\n",
       "       [0.462     , 0.399152  ],\n",
       "       [0.472     , 0.415093  ],\n",
       "       [0.482     , 0.422689  ],\n",
       "       [0.492     , 0.438726  ],\n",
       "       [0.502     , 0.451055  ],\n",
       "       [0.512     , 0.459661  ],\n",
       "       [0.522     , 0.452507  ],\n",
       "       [0.532     , 0.300213  ],\n",
       "       [0.542     , 0.0467435 ],\n",
       "       [0.552     , 0.00825236],\n",
       "       [0.562     , 0.0018465 ],\n",
       "       [0.572     , 0.00093439]])"
      ]
     },
     "execution_count": 13,
     "metadata": {},
     "output_type": "execute_result"
    }
   ],
   "source": [
    "f['g_SDSS.filter'][...]"
   ]
  },
  {
   "cell_type": "code",
   "execution_count": 16,
   "id": "2022c72a-fdb7-4a89-836e-11dcabdc75fb",
   "metadata": {},
   "outputs": [
    {
     "name": "stderr",
     "output_type": "stream",
     "text": [
      "/tmp/ipykernel_12053/3508781549.py:10: RuntimeWarning: divide by zero encountered in log\n",
      "  cax = ax.imshow(np.log(convolved_image), cmap=plt.cm.viridis,\n"
     ]
    }
   ],
   "source": [
    "import matplotlib.pyplot as plt\n",
    "import numpy as np\n",
    "\n",
    "fig = plt.figure()\n",
    "ax = fig.add_subplot(111)\n",
    "\n",
    "w = f['image_data'].attrs['width']\n",
    "w_unit = f['image_data'].attrs['width_unit'].astype(str)\n",
    "\n",
    "cax = ax.imshow(np.log(convolved_image), cmap=plt.cm.viridis,\n",
    "                origin='lower', extent=[-w, w, -w, w])\n",
    "ax.tick_params(axis='both', which='major', labelsize=10)\n",
    "ax.set_xlabel('x ({})'.format(w_unit))\n",
    "ax.set_ylabel('y ({})'.format(w_unit))\n",
    "plt.colorbar(cax, label='log Luminosity (ergs/s)', format='%.0e')\n",
    "plt.title(\"Convolved image: {}\".format(filter_name))\n",
    "plt.tight_layout()\n",
    "plt.savefig('first_light.png')\n",
    "plt.show()"
   ]
  },
  {
   "cell_type": "code",
   "execution_count": null,
   "id": "896d6424-ce51-4ebd-ae68-eb5e908f9731",
   "metadata": {},
   "outputs": [],
   "source": []
  }
 ],
 "metadata": {
  "kernelspec": {
   "display_name": "Python (pd39)",
   "language": "python",
   "name": "pd39"
  },
  "language_info": {
   "codemirror_mode": {
    "name": "ipython",
    "version": 3
   },
   "file_extension": ".py",
   "mimetype": "text/x-python",
   "name": "python",
   "nbconvert_exporter": "python",
   "pygments_lexer": "ipython3",
   "version": "3.9.19"
  }
 },
 "nbformat": 4,
 "nbformat_minor": 5
}
