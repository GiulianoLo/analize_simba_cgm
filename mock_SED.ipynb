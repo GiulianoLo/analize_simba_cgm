{
 "cells": [
  {
   "cell_type": "code",
   "execution_count": 1,
   "id": "61944499-50f7-44af-8eaf-31d8c28c646b",
   "metadata": {},
   "outputs": [],
   "source": [
    "import os\n",
    "import caesar\n",
    "import numpy as np\n",
    "import matplotlib.pyplot as plt\n",
    "from matplotlib import colors\n",
    "import modules as anal\n",
    "import modules.anal_func as anal_func\n",
    "\n",
    "from astropy.cosmology import LambdaCDM\n",
    "import astropy.units as u\n",
    "from astropy.io import fits\n",
    "from scipy import interpolate\n",
    "\n",
    "from modules.powdermod.makesed import MakeSED\n",
    "\n",
    "cosmo = LambdaCDM(H0 = 68, Om0= 0.3, Ode0= 0.7, Ob0=0.048)\n",
    "plt.rcParams.update({'font.size': 28})\n",
    "\n",
    "sb = anal.Simba('PC39BP4', size=25)"
   ]
  },
  {
   "cell_type": "code",
   "execution_count": 2,
   "id": "8ae8e669-3af4-40f2-a1d6-d739d7001983",
   "metadata": {},
   "outputs": [],
   "source": [
    "# select the galaxies for the SED"
   ]
  },
  {
   "cell_type": "code",
   "execution_count": 7,
   "id": "f707c3ee-3e33-431b-9aec-9565ebfff85f",
   "metadata": {},
   "outputs": [],
   "source": [
    "# initialize SED making class\n",
    "hydro_dir_base = '/home/lorenzong/analize_simba_cgm/output/hdf5/filtered_part_files/'\n",
    "preselect = '/home/lorenzong/analize_simba_cgm/output/txt/target_selection_for_SED/test_selection.txt'\n",
    "selection_file = 'test_entire_sfh_0'\n",
    "makesed = MakeSED(sb, nnodes=1, model_run_name='m25', hydro_dir_base=hydro_dir_base, selection_file=selection_file, preselect=preselect)"
   ]
  },
  {
   "cell_type": "code",
   "execution_count": 8,
   "id": "d7ef0130-9af5-43a9-917e-28d1c9b1a142",
   "metadata": {},
   "outputs": [
    {
     "name": "stderr",
     "output_type": "stream",
     "text": [
      "yt : [INFO     ] 2024-08-23 21:00:27,466 Opening /media/lorenzong/Data1/simba_hig_res/m25n512_129.hdf5\n",
      "yt : [INFO     ] 2024-08-23 21:00:27,485 Found 263961 halos\n",
      "yt : [INFO     ] 2024-08-23 21:00:27,491 Found 5290 galaxies\n"
     ]
    },
    {
     "name": "stdout",
     "output_type": "stream",
     "text": [
      "Inserted aggregated data for: snap129\n",
      "===================== snap129/code_coods [[12211.039 15211.159 18414.58 ]]\n",
      "Processing galaxy:  0  in snap  129\n",
      "Initializing position:  [12211.039 15211.159 18414.58 ]\n",
      "Generating local run script\n",
      "/home/lorenzong/analize_simba_cgm/output/hdf5/powderday_sed_out/snap_129/run_local.sh\n",
      "Executing local run script...\n",
      "Starting simulation...\n"
     ]
    },
    {
     "name": "stderr",
     "output_type": "stream",
     "text": [
      "yt : [INFO     ] 2024-08-23 21:00:28,637 Calculating time from 7.114e-01 to be 2.969e+17 seconds\n",
      "yt : [INFO     ] 2024-08-23 21:00:28,637 Assuming length units are in kpc/h (comoving)\n",
      "yt : [INFO     ] 2024-08-23 21:00:28,670 Parameters: current_time              = 2.968791388457766e+17 s\n",
      "yt : [INFO     ] 2024-08-23 21:00:28,670 Parameters: domain_dimensions         = [1 1 1]\n",
      "yt : [INFO     ] 2024-08-23 21:00:28,670 Parameters: domain_left_edge          = [-120. -120. -120.]\n",
      "yt : [INFO     ] 2024-08-23 21:00:28,670 Parameters: domain_right_edge         = [120. 120. 120.]\n",
      "yt : [INFO     ] 2024-08-23 21:00:28,670 Parameters: cosmological_simulation   = 1\n",
      "yt : [INFO     ] 2024-08-23 21:00:28,670 Parameters: current_redshift          = 0.4057579856290421\n",
      "yt : [INFO     ] 2024-08-23 21:00:28,670 Parameters: omega_lambda              = 0.7\n",
      "yt : [INFO     ] 2024-08-23 21:00:28,670 Parameters: omega_matter              = 0.3\n",
      "yt : [INFO     ] 2024-08-23 21:00:28,670 Parameters: omega_radiation           = 0.0\n",
      "yt : [INFO     ] 2024-08-23 21:00:28,670 Parameters: hubble_constant           = 0.68\n",
      "yt : [WARNING  ] 2024-08-23 21:00:28,670 A bounding box was explicitly specified, so we are disabling periodicity.\n",
      "yt : [INFO     ] 2024-08-23 21:00:28,682 Allocating for 1.312e+06 particles\n",
      "Initializing coarse index : 100%|██████████| 5/5 [00:00<00:00, 205.69it/s]\n",
      "yt : [INFO     ] 2024-08-23 21:00:28,708 Updating index_order2 from 2 to 2\n",
      "Initializing refined index: 100%|██████████| 5/5 [00:00<00:00, 101.18it/s]\n",
      "yt : [INFO     ] 2024-08-23 21:00:35,402 Calculating time from 7.114e-01 to be 2.969e+17 seconds\n",
      "yt : [INFO     ] 2024-08-23 21:00:35,403 Assuming length units are in kpc/h (comoving)\n",
      "yt : [INFO     ] 2024-08-23 21:00:35,426 Parameters: current_time              = 2.968791388457766e+17 s\n",
      "yt : [INFO     ] 2024-08-23 21:00:35,427 Parameters: domain_dimensions         = [1 1 1]\n",
      "yt : [INFO     ] 2024-08-23 21:00:35,427 Parameters: domain_left_edge          = [-120. -120. -120.]\n",
      "yt : [INFO     ] 2024-08-23 21:00:35,427 Parameters: domain_right_edge         = [120. 120. 120.]\n",
      "yt : [INFO     ] 2024-08-23 21:00:35,427 Parameters: cosmological_simulation   = 1\n",
      "yt : [INFO     ] 2024-08-23 21:00:35,427 Parameters: current_redshift          = 0.4057579856290421\n",
      "yt : [INFO     ] 2024-08-23 21:00:35,427 Parameters: omega_lambda              = 0.7\n",
      "yt : [INFO     ] 2024-08-23 21:00:35,427 Parameters: omega_matter              = 0.3\n",
      "yt : [INFO     ] 2024-08-23 21:00:35,427 Parameters: omega_radiation           = 0.0\n",
      "yt : [INFO     ] 2024-08-23 21:00:35,427 Parameters: hubble_constant           = 0.68\n",
      "yt : [WARNING  ] 2024-08-23 21:00:35,427 A bounding box was explicitly specified, so we are disabling periodicity.\n",
      "yt : [INFO     ] 2024-08-23 21:00:35,435 Allocating for 1.312e+06 particles\n",
      "Initializing coarse index : 100%|██████████| 5/5 [00:00<00:00, 391.19it/s]\n",
      "yt : [INFO     ] 2024-08-23 21:00:35,449 Updating index_order2 from 2 to 2\n",
      "Initializing refined index: 100%|██████████| 5/5 [00:00<00:00, 100.00it/s]\n",
      "yt : [INFO     ] 2024-08-23 21:00:35,742 Allocating octree with spatial range [-1.2000e+02, -1.2000e+02, -1.2000e+02] code_length to [1.2000e+02, 1.2000e+02, 1.2000e+02] code_length\n",
      "yt : [INFO     ] 2024-08-23 21:00:35,746 No particles found!\n",
      "yt : [WARNING  ] 2024-08-23 21:00:35,760 Field ('gas', 'density') already exists. To override use `force_override=True`.\n",
      "/home/lorenzong/anaconda3/envs/pd_env/lib/python3.9/site-packages/unyt/array.py:1906: RuntimeWarning: invalid value encountered in divide\n",
      "  out_arr = func(\n",
      "yt : [INFO     ] 2024-08-23 21:00:35,783 Calculating time from 7.114e-01 to be 2.969e+17 seconds\n",
      "yt : [INFO     ] 2024-08-23 21:00:35,783 Assuming length units are in kpc/h (comoving)\n",
      "yt : [INFO     ] 2024-08-23 21:00:35,804 Parameters: current_time              = 2.968791388457766e+17 s\n",
      "yt : [INFO     ] 2024-08-23 21:00:35,804 Parameters: domain_dimensions         = [1 1 1]\n",
      "yt : [INFO     ] 2024-08-23 21:00:35,804 Parameters: domain_left_edge          = [12182.36159959 15182.48171678 18385.90261522]\n",
      "yt : [INFO     ] 2024-08-23 21:00:35,804 Parameters: domain_right_edge         = [12239.71652541 15239.83664259 18443.25754103]\n",
      "yt : [INFO     ] 2024-08-23 21:00:35,804 Parameters: cosmological_simulation   = 1\n",
      "yt : [INFO     ] 2024-08-23 21:00:35,804 Parameters: current_redshift          = 0.4057579856290421\n",
      "yt : [INFO     ] 2024-08-23 21:00:35,804 Parameters: omega_lambda              = 0.7\n",
      "yt : [INFO     ] 2024-08-23 21:00:35,804 Parameters: omega_matter              = 0.3\n",
      "yt : [INFO     ] 2024-08-23 21:00:35,804 Parameters: omega_radiation           = 0.0\n",
      "yt : [INFO     ] 2024-08-23 21:00:35,804 Parameters: hubble_constant           = 0.68\n",
      "yt : [WARNING  ] 2024-08-23 21:00:35,804 A bounding box was explicitly specified, so we are disabling periodicity.\n",
      "yt : [INFO     ] 2024-08-23 21:00:35,812 Allocating for 1.312e+06 particles\n",
      "Initializing coarse index : 100%|██████████| 5/5 [00:00<00:00, 175.62it/s]\n",
      "yt : [INFO     ] 2024-08-23 21:00:35,843 Updating index_order2 from 2 to 2\n",
      "Initializing refined index: 100%|██████████| 5/5 [00:00<00:00, 51.81it/s]\n",
      "yt : [INFO     ] 2024-08-23 21:00:36,196 Allocating octree with spatial range [1.2182e+04, 1.5182e+04, 1.8386e+04] code_length to [1.2240e+04, 1.5240e+04, 1.8443e+04] code_length\n",
      "yt : [INFO     ] 2024-08-23 21:00:36,250 Allocating Octree for 1141758 particles\n",
      "yt : [INFO     ] 2024-08-23 21:00:36,385 Allocated 558481 nodes in octree\n",
      "yt : [INFO     ] 2024-08-23 21:00:36,385 Octree bound 1141075 particles\n",
      "Interpolating (scatter) SPH field PartType0: 5it [00:30,  6.04s/it]\n",
      "Interpolating (scatter) SPH field PartType0: 5it [00:30,  6.03s/it]\n",
      "Interpolating (scatter) SPH field PartType0: 5it [00:30,  6.04s/it]\n",
      "yt : [WARNING  ] 2024-08-23 21:02:07,266 Field ('gas', 'density') already exists. To override use `force_override=True`.\n",
      "Interpolating (scatter) SPH field PartType0: 5it [00:30,  6.02s/it]\n",
      "Interpolating (scatter) SPH field PartType0: 5it [00:30,  6.03s/it]\n",
      "Interpolating (scatter) SPH field PartType0: 5it [00:30,  6.02s/it]\n",
      "Interpolating (scatter) SPH field PartType0: 5it [00:30,  6.03s/it]\n",
      "Interpolating (scatter) SPH field PartType0: 5it [00:30,  6.02s/it]\n",
      "Interpolating (scatter) SPH field PartType0: 5it [00:30,  6.08s/it]\n",
      "Interpolating (scatter) SPH field PartType0: 5it [00:30,  6.02s/it]\n",
      "Interpolating (scatter) SPH field PartType0: 5it [00:30,  6.03s/it]\n",
      "Interpolating (scatter) SPH field PartType0: 5it [00:30,  6.03s/it]\n",
      "Interpolating (scatter) SPH field PartType0: 5it [00:30,  6.03s/it]\n",
      "Interpolating (scatter) SPH field PartType0: 5it [00:30,  6.02s/it]\n",
      "yt : [INFO     ] 2024-08-23 21:07:38,928 Allocating octree with spatial range [1.2182e+04, 1.5182e+04, 1.8386e+04] code_length to [1.2240e+04, 1.5240e+04, 1.8443e+04] code_length\n",
      "yt : [INFO     ] 2024-08-23 21:07:38,991 Allocating Octree for 1141758 particles\n",
      "yt : [INFO     ] 2024-08-23 21:07:39,121 Allocated 558481 nodes in octree\n",
      "yt : [INFO     ] 2024-08-23 21:07:39,121 Octree bound 1141075 particles\n",
      "/home/lorenzong/anaconda3/envs/pd_env/lib/python3.9/site-packages/astropy/units/quantity.py:666: RuntimeWarning: overflow encountered in expm1\n",
      "  result = super().__array_ufunc__(function, method, *arrays, **kwargs)\n",
      "WARNING: Version 1 dust file detected - discarding mean opacities and recomputing them [hyperion.dust.dust_type]\n",
      "WARNING: Planck function for lowest temperature not completely covered by opacity function [hyperion.dust.mean_opacities]\n",
      "WARNING: Version 1 dust file detected - discarding mean opacities and recomputing them [hyperion.dust.dust_type]\n",
      "WARNING: Planck function for lowest temperature not completely covered by opacity function [hyperion.dust.mean_opacities]\n",
      "WARNING: Version 1 dust file detected - discarding mean opacities and recomputing them [hyperion.dust.dust_type]\n",
      "WARNING: Planck function for lowest temperature not completely covered by opacity function [hyperion.dust.mean_opacities]\n",
      "100%|██████████| 281/281 [02:15<00:00,  2.07it/s]\n",
      "/home/lorenzong/.local/bin/hyperion:69: DeprecationWarning: The SafeConfigParser class has been renamed to ConfigParser in Python 3.2. This alias will be removed in future versions. Use ConfigParser directly instead.\n",
      "  config = SafeConfigParser()\n"
     ]
    },
    {
     "name": "stdout",
     "output_type": "stream",
     "text": [
      "Simulation complete\n"
     ]
    }
   ],
   "source": [
    "makesed.selection_gals([129], [0]) # create the hdf5 selection\n",
    "makesed.create_master('local') # create the parameters masters"
   ]
  },
  {
   "cell_type": "code",
   "execution_count": 9,
   "id": "85552244-1478-460a-b8aa-38e9e99a7640",
   "metadata": {},
   "outputs": [
    {
     "name": "stdout",
     "output_type": "stream",
     "text": [
      "saving\n"
     ]
    }
   ],
   "source": [
    "fig, ax = makesed.plotsed(129, 0, ret=True)"
   ]
  },
  {
   "cell_type": "code",
   "execution_count": 11,
   "id": "c44bec60-3d51-48f6-a6d9-d4019c9c59d9",
   "metadata": {},
   "outputs": [],
   "source": [
    "ax.set_ylim(1e-10, 1e11)\n",
    "fig.savefig('again.png')"
   ]
  },
  {
   "cell_type": "code",
   "execution_count": null,
   "id": "dfe59ca6-ce83-48b0-8ce6-d691e645b1cb",
   "metadata": {},
   "outputs": [],
   "source": []
  },
  {
   "cell_type": "code",
   "execution_count": null,
   "id": "eb2ff6a5-9a17-41db-84e7-dad5ef00d2bf",
   "metadata": {},
   "outputs": [],
   "source": []
  },
  {
   "cell_type": "code",
   "execution_count": null,
   "id": "274a91b4-ac2a-4c33-bf8f-06029dabb73e",
   "metadata": {},
   "outputs": [],
   "source": []
  },
  {
   "cell_type": "code",
   "execution_count": null,
   "id": "1ef82601-ec0b-4c5b-bf3a-312c2d50d8e1",
   "metadata": {},
   "outputs": [],
   "source": []
  },
  {
   "cell_type": "code",
   "execution_count": null,
   "id": "8b533cac-c8f5-4ad5-9387-6daec9f4cf47",
   "metadata": {},
   "outputs": [],
   "source": []
  },
  {
   "cell_type": "code",
   "execution_count": null,
   "id": "80be1461-af84-4cc9-b062-48d62b27f713",
   "metadata": {},
   "outputs": [],
   "source": []
  }
 ],
 "metadata": {
  "kernelspec": {
   "display_name": "pd_env",
   "language": "python",
   "name": "pd_env"
  },
  "language_info": {
   "codemirror_mode": {
    "name": "ipython",
    "version": 3
   },
   "file_extension": ".py",
   "mimetype": "text/x-python",
   "name": "python",
   "nbconvert_exporter": "python",
   "pygments_lexer": "ipython3",
   "version": "3.9.19"
  }
 },
 "nbformat": 4,
 "nbformat_minor": 5
}
